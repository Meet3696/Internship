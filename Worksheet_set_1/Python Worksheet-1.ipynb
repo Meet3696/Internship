{
 "cells": [
  {
   "cell_type": "code",
   "execution_count": null,
   "id": "96f3a44e",
   "metadata": {},
   "outputs": [],
   "source": [
    "#Que-11\n",
    "# taking number from user\n",
    "number = int(input(\"Enter a number: \"))\n",
    "\n",
    "factorial=1\n",
    "\n",
    " # checking number\n",
    "if number > 0:\n",
    "    for i in range(1,number+1):\n",
    "        factorial = factorial*i\n",
    "    print(\"factorial of\",number,\":-\",factorial)\n",
    "elif number== 0:\n",
    "    print('factorial of 0 :-1')\n",
    "else: \n",
    "    print(\"Invalid number or factorial does not exist for negative numbers.\")\n",
    "\n"
   ]
  },
  {
   "cell_type": "code",
   "execution_count": null,
   "id": "92ed7313",
   "metadata": {},
   "outputs": [],
   "source": [
    "#Que- 12\n",
    "#taking number from user\n",
    "number = int(input(\"Enter any number : \"))\n",
    "\n",
    "if number > 1:\n",
    "    for i in range(2, number):\n",
    "        if (number % i) == 0:\n",
    "            print(number, \"is a COMPOSITE number\")\n",
    "            break\n",
    "        else:\n",
    "            print(number, \"is a PRIME number\")\n",
    "else:\n",
    "    number == 0 or 1\n",
    "    print(number, \"is a neither Prime NOR Composite number\")\n"
   ]
  },
  {
   "cell_type": "code",
   "execution_count": null,
   "id": "234fb2e9",
   "metadata": {},
   "outputs": [],
   "source": [
    "#Que- 13\n",
    "#taking string form user\n",
    "string= input(\"Enter a string: \")\n",
    "\n",
    "reverse= string[::-1]\n",
    "\n",
    "if string == reverse:\n",
    "    print(\"it's palindrome\")\n",
    "else: \n",
    "    print(\"it's not palindrome\")"
   ]
  },
  {
   "cell_type": "code",
   "execution_count": null,
   "id": "6d682f04",
   "metadata": {},
   "outputs": [],
   "source": [
    "#Que-14\n",
    "import numpy as np\n",
    "\n",
    "#taking number from the user\n",
    "\n",
    "x=float(input(\"Enter 1st side length of triangle: \"))\n",
    "y=float(input(\"Enter 2nd side length of triangle: \"))\n",
    "\n",
    "z=np.sqrt(x**2 + y**2)\n",
    "\n",
    "print(\"3rd side length of the right angled triangle is:\",z)\n"
   ]
  },
  {
   "cell_type": "code",
   "execution_count": null,
   "id": "b6ce708c",
   "metadata": {},
   "outputs": [],
   "source": [
    "#Que-15\n",
    "#taking string from the user\n",
    "string=input(\"Enter a string: \")\n",
    " \n",
    "#converting string to list\n",
    "l=list(string)\n",
    "\n",
    "frequency= [l.count(i) for i in l]\n",
    "d=dict(zip(l,frequency))\n",
    "print(d)"
   ]
  },
  {
   "cell_type": "code",
   "execution_count": null,
   "id": "aca97643",
   "metadata": {},
   "outputs": [],
   "source": []
  },
  {
   "cell_type": "code",
   "execution_count": null,
   "id": "d77695cf",
   "metadata": {},
   "outputs": [],
   "source": []
  },
  {
   "cell_type": "code",
   "execution_count": null,
   "id": "e85aab26",
   "metadata": {},
   "outputs": [],
   "source": []
  },
  {
   "cell_type": "code",
   "execution_count": null,
   "id": "b1b41cbd",
   "metadata": {},
   "outputs": [],
   "source": []
  },
  {
   "cell_type": "code",
   "execution_count": null,
   "id": "30a49bce",
   "metadata": {},
   "outputs": [],
   "source": []
  }
 ],
 "metadata": {
  "kernelspec": {
   "display_name": "Python 3 (ipykernel)",
   "language": "python",
   "name": "python3"
  },
  "language_info": {
   "codemirror_mode": {
    "name": "ipython",
    "version": 3
   },
   "file_extension": ".py",
   "mimetype": "text/x-python",
   "name": "python",
   "nbconvert_exporter": "python",
   "pygments_lexer": "ipython3",
   "version": "3.10.9"
  }
 },
 "nbformat": 4,
 "nbformat_minor": 5
}
