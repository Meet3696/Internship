{
 "cells": [
  {
   "cell_type": "code",
   "execution_count": 2,
   "id": "d809b5c3",
   "metadata": {},
   "outputs": [],
   "source": [
    "import selenium \n",
    "import pandas as pd\n",
    "from selenium import webdriver\n",
    "import warnings\n",
    "warnings.filterwarnings('ignore')\n",
    "from selenium.webdriver.common.by import By\n",
    "import time"
   ]
  },
  {
   "cell_type": "markdown",
   "id": "fa969667",
   "metadata": {},
   "source": [
    "# QUE: 1"
   ]
  },
  {
   "cell_type": "code",
   "execution_count": 3,
   "id": "ec4daf0e",
   "metadata": {},
   "outputs": [],
   "source": [
    "driver=webdriver.Chrome()\n",
    "\n",
    "driver.get(\"https://www.shine.com/\")\n"
   ]
  },
  {
   "cell_type": "code",
   "execution_count": 76,
   "id": "3ef887ba",
   "metadata": {},
   "outputs": [],
   "source": [
    "#This is for Notification pop-up message close\n",
    "time.sleep(20)\n",
    "Click_x=driver.find_element(By.CLASS_NAME,\"btn-close \")\n",
    "Click_x.click()"
   ]
  },
  {
   "cell_type": "code",
   "execution_count": 4,
   "id": "7e33ec29",
   "metadata": {},
   "outputs": [],
   "source": [
    "#Click on Job tab\n",
    "Click_y=driver.find_element(By.CLASS_NAME,\"logo\")\n",
    "Click_y.click()\n",
    "\n",
    "\n",
    "Click_z=driver.find_element(By.CLASS_NAME,\"input\")\n",
    "Click_z.click()"
   ]
  },
  {
   "cell_type": "code",
   "execution_count": 5,
   "id": "6286b105",
   "metadata": {},
   "outputs": [],
   "source": [
    "#Fill Job_Title/Skills\n",
    "Job_Title=driver.find_element(By.ID,\"id_q\")\n",
    "Job_Title.send_keys('Data Analyst')\n",
    "\n",
    "#Fill Location\n",
    "Location=driver.find_element(By.ID,\"id_loc\")\n",
    "Location.send_keys('Bangalore')\n",
    "\n",
    "#Click on Search\n",
    "Search_Jobs=driver.find_element(By.CLASS_NAME,\"searchForm_btnWrap_advance__VYBHN\")\n",
    "Search_Jobs.click()"
   ]
  },
  {
   "cell_type": "code",
   "execution_count": 79,
   "id": "f52e38b9",
   "metadata": {},
   "outputs": [
    {
     "name": "stdout",
     "output_type": "stream",
     "text": [
      "10 10\n"
     ]
    }
   ],
   "source": [
    "#Scrapping data for first 10 job result\n",
    "Designation=[]\n",
    "Locations=[]\n",
    "\n",
    "titles=driver.find_elements(By.XPATH,'//h2[@itemprop=\"name\"]')\n",
    "for i in titles[0:10]:\n",
    "    title=i.text\n",
    "    Designation.append(title)\n",
    "location=driver.find_elements(By.XPATH,'//div[@class=\" jobCard_jobCard_lists_item__YxRkV jobCard_locationIcon__zrWt2\"]')\n",
    "for i in location[0:10]:\n",
    "    locate=i.text\n",
    "    Locations.append(locate)\n",
    "    \n",
    "print(len(Designation),len(Locations))"
   ]
  },
  {
   "cell_type": "code",
   "execution_count": 68,
   "id": "b57d670f",
   "metadata": {},
   "outputs": [
    {
     "data": {
      "text/html": [
       "<div>\n",
       "<style scoped>\n",
       "    .dataframe tbody tr th:only-of-type {\n",
       "        vertical-align: middle;\n",
       "    }\n",
       "\n",
       "    .dataframe tbody tr th {\n",
       "        vertical-align: top;\n",
       "    }\n",
       "\n",
       "    .dataframe thead th {\n",
       "        text-align: right;\n",
       "    }\n",
       "</style>\n",
       "<table border=\"1\" class=\"dataframe\">\n",
       "  <thead>\n",
       "    <tr style=\"text-align: right;\">\n",
       "      <th></th>\n",
       "      <th>Job_Title,Skill</th>\n",
       "      <th>Location</th>\n",
       "    </tr>\n",
       "  </thead>\n",
       "  <tbody>\n",
       "    <tr>\n",
       "      <th>0</th>\n",
       "      <td>Lead Data Analyst</td>\n",
       "      <td>Bangalore</td>\n",
       "    </tr>\n",
       "    <tr>\n",
       "      <th>1</th>\n",
       "      <td>Data Analyst</td>\n",
       "      <td>Bangalore\\n+3</td>\n",
       "    </tr>\n",
       "    <tr>\n",
       "      <th>2</th>\n",
       "      <td>Vacancy For Data Analyst</td>\n",
       "      <td>Bangalore\\n+14</td>\n",
       "    </tr>\n",
       "    <tr>\n",
       "      <th>3</th>\n",
       "      <td>Clinical Data Analyst</td>\n",
       "      <td>Bangalore\\n+6</td>\n",
       "    </tr>\n",
       "    <tr>\n",
       "      <th>4</th>\n",
       "      <td>Data Management</td>\n",
       "      <td>Bangalore\\n+18</td>\n",
       "    </tr>\n",
       "    <tr>\n",
       "      <th>5</th>\n",
       "      <td>Data Modeler data</td>\n",
       "      <td>Bangalore</td>\n",
       "    </tr>\n",
       "    <tr>\n",
       "      <th>6</th>\n",
       "      <td>Data Modeller</td>\n",
       "      <td>Bangalore</td>\n",
       "    </tr>\n",
       "    <tr>\n",
       "      <th>7</th>\n",
       "      <td>Data Modeler Bangalore</td>\n",
       "      <td>Bangalore</td>\n",
       "    </tr>\n",
       "    <tr>\n",
       "      <th>8</th>\n",
       "      <td>Data Modeler</td>\n",
       "      <td>Bangalore</td>\n",
       "    </tr>\n",
       "    <tr>\n",
       "      <th>9</th>\n",
       "      <td>Clinical Data Analyst</td>\n",
       "      <td>Bangalore\\n+4</td>\n",
       "    </tr>\n",
       "  </tbody>\n",
       "</table>\n",
       "</div>"
      ],
      "text/plain": [
       "            Job_Title,Skill        Location\n",
       "0         Lead Data Analyst       Bangalore\n",
       "1              Data Analyst   Bangalore\\n+3\n",
       "2  Vacancy For Data Analyst  Bangalore\\n+14\n",
       "3     Clinical Data Analyst   Bangalore\\n+6\n",
       "4           Data Management  Bangalore\\n+18\n",
       "5         Data Modeler data       Bangalore\n",
       "6             Data Modeller       Bangalore\n",
       "7    Data Modeler Bangalore       Bangalore\n",
       "8              Data Modeler       Bangalore\n",
       "9     Clinical Data Analyst   Bangalore\\n+4"
      ]
     },
     "execution_count": 68,
     "metadata": {},
     "output_type": "execute_result"
    }
   ],
   "source": [
    "#Crteate DataFrame\n",
    "df=pd.DataFrame({'Job_Title,Skill':Designation,'Location':Locations})\n",
    "df"
   ]
  },
  {
   "cell_type": "markdown",
   "id": "895ac507",
   "metadata": {},
   "source": [
    "# Que-2"
   ]
  },
  {
   "cell_type": "code",
   "execution_count": 2,
   "id": "99a66306",
   "metadata": {},
   "outputs": [],
   "source": [
    "driver=webdriver.Chrome()\n",
    "\n",
    "driver.get(\"https://www.shine.com/\")"
   ]
  },
  {
   "cell_type": "code",
   "execution_count": 3,
   "id": "f45884ed",
   "metadata": {},
   "outputs": [],
   "source": [
    "#Click on Job tab\n",
    "Click_y=driver.find_element(By.CLASS_NAME,\"logo\")\n",
    "Click_y.click()\n",
    "\n",
    "\n",
    "Click_z=driver.find_element(By.CLASS_NAME,\"input\")\n",
    "Click_z.click()"
   ]
  },
  {
   "cell_type": "code",
   "execution_count": 4,
   "id": "061bba0f",
   "metadata": {},
   "outputs": [],
   "source": [
    "#Fill Job_Title/Skills\n",
    "Job_Title=driver.find_element(By.ID,\"id_q\")\n",
    "Job_Title.send_keys('Data Scientist')\n",
    "\n",
    "#Fill Location\n",
    "Location=driver.find_element(By.ID,\"id_loc\")\n",
    "Location.send_keys('Bangalore')\n",
    "\n",
    "#Click on Search\n",
    "Search_Jobs=driver.find_element(By.CLASS_NAME,\"searchForm_btnWrap_advance__VYBHN\")\n",
    "Search_Jobs.click()"
   ]
  },
  {
   "cell_type": "code",
   "execution_count": 17,
   "id": "eb44f464",
   "metadata": {},
   "outputs": [
    {
     "name": "stdout",
     "output_type": "stream",
     "text": [
      "10 10 10 0\n"
     ]
    }
   ],
   "source": [
    "#Scrapping data for first 10 job result\n",
    "Designation=[]\n",
    "Locations=[]\n",
    "Company_Name=[]\n",
    "Experience_required=[]\n",
    "\n",
    "#Scrapping Job_Title\n",
    "titles=driver.find_elements(By.XPATH,'//h2[@itemprop=\"name\"]')\n",
    "for i in titles[0:10]:\n",
    "    title=i.text\n",
    "    Designation.append(title)\n",
    "    \n",
    "#Scrapping Job_Locaton    \n",
    "location=driver.find_elements(By.XPATH,'//div[@class=\" jobCard_jobCard_lists_item__YxRkV jobCard_locationIcon__zrWt2\"]')\n",
    "for i in location[0:10]:\n",
    "    locate=i.text\n",
    "    Locations.append(locate)\n",
    "    \n",
    "#Scrapping Company_Name\n",
    "Company=driver.find_elements(By.XPATH,'//div[@class=\"jobCard_jobCard_cName__mYnow\"]/span')\n",
    "for i in Company[0:10]:\n",
    "    Compan=i.text\n",
    "    Company_Name.append(Compan)\n",
    "    \n",
    "#Scrapping Experience Required\n",
    "Experience=driver.find_elements(By.TAG_NAME,'//div[@class=\"jobCard_jobCard_lists__fdnsc\"]/div[1]')\n",
    "for i in Experience[0:10]:\n",
    "    Experienc=i.text\n",
    "    Experience_required.append(Experienc)\n",
    "    \n",
    "    \n",
    "print(len(Designation),len(Locations),len(Company_Name),len(Experience_required))"
   ]
  },
  {
   "cell_type": "code",
   "execution_count": 7,
   "id": "5a46d109",
   "metadata": {},
   "outputs": [
    {
     "ename": "ValueError",
     "evalue": "All arrays must be of the same length",
     "output_type": "error",
     "traceback": [
      "\u001b[1;31m---------------------------------------------------------------------------\u001b[0m",
      "\u001b[1;31mValueError\u001b[0m                                Traceback (most recent call last)",
      "Cell \u001b[1;32mIn[7], line 2\u001b[0m\n\u001b[0;32m      1\u001b[0m \u001b[38;5;66;03m#Crteate DataFrame\u001b[39;00m\n\u001b[1;32m----> 2\u001b[0m df\u001b[38;5;241m=\u001b[39m\u001b[43mpd\u001b[49m\u001b[38;5;241;43m.\u001b[39;49m\u001b[43mDataFrame\u001b[49m\u001b[43m(\u001b[49m\u001b[43m{\u001b[49m\u001b[38;5;124;43m'\u001b[39;49m\u001b[38;5;124;43mJob_Title,Skill\u001b[39;49m\u001b[38;5;124;43m'\u001b[39;49m\u001b[43m:\u001b[49m\u001b[43mDesignation\u001b[49m\u001b[43m,\u001b[49m\u001b[38;5;124;43m'\u001b[39;49m\u001b[38;5;124;43mLocation\u001b[39;49m\u001b[38;5;124;43m'\u001b[39;49m\u001b[43m:\u001b[49m\u001b[43mLocations\u001b[49m\u001b[43m,\u001b[49m\u001b[38;5;124;43m'\u001b[39;49m\u001b[38;5;124;43mCompany-Name\u001b[39;49m\u001b[38;5;124;43m'\u001b[39;49m\u001b[43m:\u001b[49m\u001b[43mCompany_Name\u001b[49m\u001b[43m,\u001b[49m\u001b[38;5;124;43m'\u001b[39;49m\u001b[38;5;124;43mExperience-Required\u001b[39;49m\u001b[38;5;124;43m'\u001b[39;49m\u001b[43m:\u001b[49m\u001b[43mExperience_required\u001b[49m\u001b[43m}\u001b[49m\u001b[43m)\u001b[49m\n\u001b[0;32m      3\u001b[0m df\n",
      "File \u001b[1;32m~\\anaconda3\\lib\\site-packages\\pandas\\core\\frame.py:664\u001b[0m, in \u001b[0;36mDataFrame.__init__\u001b[1;34m(self, data, index, columns, dtype, copy)\u001b[0m\n\u001b[0;32m    658\u001b[0m     mgr \u001b[38;5;241m=\u001b[39m \u001b[38;5;28mself\u001b[39m\u001b[38;5;241m.\u001b[39m_init_mgr(\n\u001b[0;32m    659\u001b[0m         data, axes\u001b[38;5;241m=\u001b[39m{\u001b[38;5;124m\"\u001b[39m\u001b[38;5;124mindex\u001b[39m\u001b[38;5;124m\"\u001b[39m: index, \u001b[38;5;124m\"\u001b[39m\u001b[38;5;124mcolumns\u001b[39m\u001b[38;5;124m\"\u001b[39m: columns}, dtype\u001b[38;5;241m=\u001b[39mdtype, copy\u001b[38;5;241m=\u001b[39mcopy\n\u001b[0;32m    660\u001b[0m     )\n\u001b[0;32m    662\u001b[0m \u001b[38;5;28;01melif\u001b[39;00m \u001b[38;5;28misinstance\u001b[39m(data, \u001b[38;5;28mdict\u001b[39m):\n\u001b[0;32m    663\u001b[0m     \u001b[38;5;66;03m# GH#38939 de facto copy defaults to False only in non-dict cases\u001b[39;00m\n\u001b[1;32m--> 664\u001b[0m     mgr \u001b[38;5;241m=\u001b[39m \u001b[43mdict_to_mgr\u001b[49m\u001b[43m(\u001b[49m\u001b[43mdata\u001b[49m\u001b[43m,\u001b[49m\u001b[43m \u001b[49m\u001b[43mindex\u001b[49m\u001b[43m,\u001b[49m\u001b[43m \u001b[49m\u001b[43mcolumns\u001b[49m\u001b[43m,\u001b[49m\u001b[43m \u001b[49m\u001b[43mdtype\u001b[49m\u001b[38;5;241;43m=\u001b[39;49m\u001b[43mdtype\u001b[49m\u001b[43m,\u001b[49m\u001b[43m \u001b[49m\u001b[43mcopy\u001b[49m\u001b[38;5;241;43m=\u001b[39;49m\u001b[43mcopy\u001b[49m\u001b[43m,\u001b[49m\u001b[43m \u001b[49m\u001b[43mtyp\u001b[49m\u001b[38;5;241;43m=\u001b[39;49m\u001b[43mmanager\u001b[49m\u001b[43m)\u001b[49m\n\u001b[0;32m    665\u001b[0m \u001b[38;5;28;01melif\u001b[39;00m \u001b[38;5;28misinstance\u001b[39m(data, ma\u001b[38;5;241m.\u001b[39mMaskedArray):\n\u001b[0;32m    666\u001b[0m     \u001b[38;5;28;01mimport\u001b[39;00m \u001b[38;5;21;01mnumpy\u001b[39;00m\u001b[38;5;21;01m.\u001b[39;00m\u001b[38;5;21;01mma\u001b[39;00m\u001b[38;5;21;01m.\u001b[39;00m\u001b[38;5;21;01mmrecords\u001b[39;00m \u001b[38;5;28;01mas\u001b[39;00m \u001b[38;5;21;01mmrecords\u001b[39;00m\n",
      "File \u001b[1;32m~\\anaconda3\\lib\\site-packages\\pandas\\core\\internals\\construction.py:493\u001b[0m, in \u001b[0;36mdict_to_mgr\u001b[1;34m(data, index, columns, dtype, typ, copy)\u001b[0m\n\u001b[0;32m    489\u001b[0m     \u001b[38;5;28;01melse\u001b[39;00m:\n\u001b[0;32m    490\u001b[0m         \u001b[38;5;66;03m# dtype check to exclude e.g. range objects, scalars\u001b[39;00m\n\u001b[0;32m    491\u001b[0m         arrays \u001b[38;5;241m=\u001b[39m [x\u001b[38;5;241m.\u001b[39mcopy() \u001b[38;5;28;01mif\u001b[39;00m \u001b[38;5;28mhasattr\u001b[39m(x, \u001b[38;5;124m\"\u001b[39m\u001b[38;5;124mdtype\u001b[39m\u001b[38;5;124m\"\u001b[39m) \u001b[38;5;28;01melse\u001b[39;00m x \u001b[38;5;28;01mfor\u001b[39;00m x \u001b[38;5;129;01min\u001b[39;00m arrays]\n\u001b[1;32m--> 493\u001b[0m \u001b[38;5;28;01mreturn\u001b[39;00m \u001b[43marrays_to_mgr\u001b[49m\u001b[43m(\u001b[49m\u001b[43marrays\u001b[49m\u001b[43m,\u001b[49m\u001b[43m \u001b[49m\u001b[43mcolumns\u001b[49m\u001b[43m,\u001b[49m\u001b[43m \u001b[49m\u001b[43mindex\u001b[49m\u001b[43m,\u001b[49m\u001b[43m \u001b[49m\u001b[43mdtype\u001b[49m\u001b[38;5;241;43m=\u001b[39;49m\u001b[43mdtype\u001b[49m\u001b[43m,\u001b[49m\u001b[43m \u001b[49m\u001b[43mtyp\u001b[49m\u001b[38;5;241;43m=\u001b[39;49m\u001b[43mtyp\u001b[49m\u001b[43m,\u001b[49m\u001b[43m \u001b[49m\u001b[43mconsolidate\u001b[49m\u001b[38;5;241;43m=\u001b[39;49m\u001b[43mcopy\u001b[49m\u001b[43m)\u001b[49m\n",
      "File \u001b[1;32m~\\anaconda3\\lib\\site-packages\\pandas\\core\\internals\\construction.py:118\u001b[0m, in \u001b[0;36marrays_to_mgr\u001b[1;34m(arrays, columns, index, dtype, verify_integrity, typ, consolidate)\u001b[0m\n\u001b[0;32m    115\u001b[0m \u001b[38;5;28;01mif\u001b[39;00m verify_integrity:\n\u001b[0;32m    116\u001b[0m     \u001b[38;5;66;03m# figure out the index, if necessary\u001b[39;00m\n\u001b[0;32m    117\u001b[0m     \u001b[38;5;28;01mif\u001b[39;00m index \u001b[38;5;129;01mis\u001b[39;00m \u001b[38;5;28;01mNone\u001b[39;00m:\n\u001b[1;32m--> 118\u001b[0m         index \u001b[38;5;241m=\u001b[39m \u001b[43m_extract_index\u001b[49m\u001b[43m(\u001b[49m\u001b[43marrays\u001b[49m\u001b[43m)\u001b[49m\n\u001b[0;32m    119\u001b[0m     \u001b[38;5;28;01melse\u001b[39;00m:\n\u001b[0;32m    120\u001b[0m         index \u001b[38;5;241m=\u001b[39m ensure_index(index)\n",
      "File \u001b[1;32m~\\anaconda3\\lib\\site-packages\\pandas\\core\\internals\\construction.py:666\u001b[0m, in \u001b[0;36m_extract_index\u001b[1;34m(data)\u001b[0m\n\u001b[0;32m    664\u001b[0m lengths \u001b[38;5;241m=\u001b[39m \u001b[38;5;28mlist\u001b[39m(\u001b[38;5;28mset\u001b[39m(raw_lengths))\n\u001b[0;32m    665\u001b[0m \u001b[38;5;28;01mif\u001b[39;00m \u001b[38;5;28mlen\u001b[39m(lengths) \u001b[38;5;241m>\u001b[39m \u001b[38;5;241m1\u001b[39m:\n\u001b[1;32m--> 666\u001b[0m     \u001b[38;5;28;01mraise\u001b[39;00m \u001b[38;5;167;01mValueError\u001b[39;00m(\u001b[38;5;124m\"\u001b[39m\u001b[38;5;124mAll arrays must be of the same length\u001b[39m\u001b[38;5;124m\"\u001b[39m)\n\u001b[0;32m    668\u001b[0m \u001b[38;5;28;01mif\u001b[39;00m have_dicts:\n\u001b[0;32m    669\u001b[0m     \u001b[38;5;28;01mraise\u001b[39;00m \u001b[38;5;167;01mValueError\u001b[39;00m(\n\u001b[0;32m    670\u001b[0m         \u001b[38;5;124m\"\u001b[39m\u001b[38;5;124mMixing dicts with non-Series may lead to ambiguous ordering.\u001b[39m\u001b[38;5;124m\"\u001b[39m\n\u001b[0;32m    671\u001b[0m     )\n",
      "\u001b[1;31mValueError\u001b[0m: All arrays must be of the same length"
     ]
    }
   ],
   "source": [
    "#Crteate DataFrame\n",
    "df=pd.DataFrame({'Job_Title,Skill':Designation,'Location':Locations,'Company-Name':Company_Name,'Experience-Required':Experience_required})\n",
    "df"
   ]
  },
  {
   "cell_type": "code",
   "execution_count": 9,
   "id": "32df2d65",
   "metadata": {},
   "outputs": [
    {
     "ename": "TypeError",
     "evalue": "WebDriver.__init__() got an unexpected keyword argument 'executable_path'",
     "output_type": "error",
     "traceback": [
      "\u001b[1;31m---------------------------------------------------------------------------\u001b[0m",
      "\u001b[1;31mTypeError\u001b[0m                                 Traceback (most recent call last)",
      "Cell \u001b[1;32mIn[9], line 68\u001b[0m\n\u001b[0;32m     65\u001b[0m cities \u001b[38;5;241m=\u001b[39m [\u001b[38;5;124m\"\u001b[39m\u001b[38;5;124mBangalore\u001b[39m\u001b[38;5;124m\"\u001b[39m, \u001b[38;5;124m\"\u001b[39m\u001b[38;5;124mMumbai\u001b[39m\u001b[38;5;124m\"\u001b[39m, \u001b[38;5;124m\"\u001b[39m\u001b[38;5;124mDelhi\u001b[39m\u001b[38;5;124m\"\u001b[39m, \u001b[38;5;124m\"\u001b[39m\u001b[38;5;124mChennai\u001b[39m\u001b[38;5;124m\"\u001b[39m]  \u001b[38;5;66;03m# Add more cities as needed\u001b[39;00m\n\u001b[0;32m     66\u001b[0m num_jobs \u001b[38;5;241m=\u001b[39m \u001b[38;5;241m10\u001b[39m\n\u001b[1;32m---> 68\u001b[0m job_data_df \u001b[38;5;241m=\u001b[39m \u001b[43mscrape_shine_data_selenium\u001b[49m\u001b[43m(\u001b[49m\u001b[43mjob_title\u001b[49m\u001b[43m,\u001b[49m\u001b[43m \u001b[49m\u001b[43mcities\u001b[49m\u001b[43m,\u001b[49m\u001b[43m \u001b[49m\u001b[43mnum_jobs\u001b[49m\u001b[43m)\u001b[49m\n\u001b[0;32m     70\u001b[0m \u001b[38;5;28;01mif\u001b[39;00m \u001b[38;5;129;01mnot\u001b[39;00m job_data_df\u001b[38;5;241m.\u001b[39mempty:\n\u001b[0;32m     71\u001b[0m     \u001b[38;5;28mprint\u001b[39m(\u001b[38;5;124m\"\u001b[39m\u001b[38;5;124mScraped Data:\u001b[39m\u001b[38;5;124m\"\u001b[39m)\n",
      "Cell \u001b[1;32mIn[9], line 14\u001b[0m, in \u001b[0;36mscrape_shine_data_selenium\u001b[1;34m(job_title, locations, num_jobs)\u001b[0m\n\u001b[0;32m     11\u001b[0m df_all \u001b[38;5;241m=\u001b[39m pd\u001b[38;5;241m.\u001b[39mDataFrame()\n\u001b[0;32m     13\u001b[0m \u001b[38;5;66;03m# Launch the browser\u001b[39;00m\n\u001b[1;32m---> 14\u001b[0m driver \u001b[38;5;241m=\u001b[39m \u001b[43mwebdriver\u001b[49m\u001b[38;5;241;43m.\u001b[39;49m\u001b[43mChrome\u001b[49m\u001b[43m(\u001b[49m\u001b[43mexecutable_path\u001b[49m\u001b[38;5;241;43m=\u001b[39;49m\u001b[43mdriver_path\u001b[49m\u001b[43m)\u001b[49m\n\u001b[0;32m     15\u001b[0m driver\u001b[38;5;241m.\u001b[39mget(\u001b[38;5;124m\"\u001b[39m\u001b[38;5;124mhttps://www.shine.com/\u001b[39m\u001b[38;5;124m\"\u001b[39m)\n\u001b[0;32m     17\u001b[0m \u001b[38;5;28;01mfor\u001b[39;00m location \u001b[38;5;129;01min\u001b[39;00m locations:\n\u001b[0;32m     18\u001b[0m     \u001b[38;5;66;03m# Enter job title and location, then click the search button\u001b[39;00m\n",
      "\u001b[1;31mTypeError\u001b[0m: WebDriver.__init__() got an unexpected keyword argument 'executable_path'"
     ]
    }
   ],
   "source": [
    "from selenium import webdriver\n",
    "from selenium.webdriver.common.keys import Keys\n",
    "import pandas as pd\n",
    "import time\n",
    "\n",
    "def scrape_shine_data_selenium(job_title, locations, num_jobs=10):\n",
    "    # Set the path to your webdriver (e.g., ChromeDriver)\n",
    "    driver_path = 'path/to/chromedriver'\n",
    "\n",
    "    # Create an empty dataframe to store the results\n",
    "    df_all = pd.DataFrame()\n",
    "\n",
    "    # Launch the browser\n",
    "    driver = webdriver.Chrome(executable_path=driver_path)\n",
    "    driver.get(\"https://www.shine.com/\")\n",
    "\n",
    "    for location in locations:\n",
    "        # Enter job title and location, then click the search button\n",
    "        job_title_field = driver.find_element(\"id\", \"autocomplete\")\n",
    "        job_title_field.send_keys(job_title)\n",
    "\n",
    "        location_field = driver.find_element(\"id\", \"inputLocation\")\n",
    "        location_field.clear()\n",
    "        location_field.send_keys(location)\n",
    "\n",
    "        search_button = driver.find_element(\"id\", \"btnSearch\")\n",
    "        search_button.click()\n",
    "\n",
    "        # Wait for the page to load\n",
    "        time.sleep(2)\n",
    "\n",
    "        # Scrape data for the first 10 jobs\n",
    "        job_data = []\n",
    "        job_cards = driver.find_elements(\"class name\", \"search_listing\")\n",
    "\n",
    "        for job_card in job_cards[:num_jobs]:\n",
    "            title = job_card.find_element(\"class name\", \"job_title\").get_attribute(\"title\")\n",
    "            location = job_card.find_element(\"class name\", \"result_loc\").text.strip()\n",
    "            company_name = job_card.find_element(\"class name\", \"company_name\").text.strip()\n",
    "            experience_required = job_card.find_element(\"class name\", \"exp_span\").text.strip()\n",
    "\n",
    "            job_data.append({\n",
    "                'Job Title': title,\n",
    "                'Location': location,\n",
    "                'Company Name': company_name,\n",
    "                'Experience Required': experience_required\n",
    "            })\n",
    "\n",
    "        # Create a dataframe for the current location\n",
    "        df_location = pd.DataFrame(job_data)\n",
    "\n",
    "        # Add a 'City' column to the dataframe\n",
    "        df_location['City'] = location\n",
    "\n",
    "        # Concatenate the current location dataframe to the overall dataframe\n",
    "        df_all = pd.concat([df_all, df_location], ignore_index=True)\n",
    "\n",
    "    # Close the browser\n",
    "    driver.quit()\n",
    "\n",
    "    return df_all\n",
    "\n",
    "if __name__ == \"__main__\":\n",
    "    job_title = \"Data Analyst\"\n",
    "    cities = [\"Bangalore\", \"Mumbai\", \"Delhi\", \"Chennai\"]  # Add more cities as needed\n",
    "    num_jobs = 10\n",
    "\n",
    "    job_data_df = scrape_shine_data_selenium(job_title, cities, num_jobs)\n",
    "\n",
    "    if not job_data_df.empty:\n",
    "        print(\"Scraped Data:\")\n",
    "        print(job_data_df)\n"
   ]
  },
  {
   "cell_type": "code",
   "execution_count": null,
   "id": "cfa33433",
   "metadata": {},
   "outputs": [],
   "source": []
  },
  {
   "cell_type": "code",
   "execution_count": null,
   "id": "cfa60db0",
   "metadata": {},
   "outputs": [],
   "source": []
  },
  {
   "cell_type": "markdown",
   "id": "b3fde1cd",
   "metadata": {},
   "source": [
    "# Que-3"
   ]
  },
  {
   "cell_type": "code",
   "execution_count": 139,
   "id": "a1b79b18",
   "metadata": {},
   "outputs": [],
   "source": [
    "#Click on Job tab\n",
    "Click_y=driver.find_element(By.CLASS_NAME,\"logo\")\n",
    "Click_y.click()\n",
    "\n",
    "\n",
    "Click_z=driver.find_element(By.CLASS_NAME,\"input\")\n",
    "Click_z.click()"
   ]
  },
  {
   "cell_type": "code",
   "execution_count": 141,
   "id": "30d0bdc3",
   "metadata": {},
   "outputs": [],
   "source": [
    "#Fill Job_Title/Skills\n",
    "Job_Title=driver.find_element(By.ID,\"id_q\")\n",
    "Job_Title.send_keys('Data Scientist')\n",
    "\n",
    "\n",
    "#Click on Search\n",
    "Search_Jobs=driver.find_element(By.CLASS_NAME,\"searchForm_btnWrap_advance__VYBHN\")\n",
    "Search_Jobs.click()"
   ]
  },
  {
   "cell_type": "code",
   "execution_count": 149,
   "id": "a120c7d3",
   "metadata": {},
   "outputs": [],
   "source": [
    "Search_Jobs=driver.find_element(By.XPATH,\"/html/body/div[1]/div[1]/div[3]/div/div[1]/div/div[2]/div/ul/li[1]\")\n",
    "Search_Jobs.click() \n",
    "\n"
   ]
  },
  {
   "cell_type": "code",
   "execution_count": 150,
   "id": "57ddf6ea",
   "metadata": {},
   "outputs": [],
   "source": [
    "#Filter For Location\n",
    "Search_Jobs=driver.find_element(By.XPATH,\"/html/body/div[1]/div[1]/div[3]/div/div[1]/div/div[2]/div/ul/li[1]\")\n",
    "Search_Jobs.click() \n",
    "\n",
    "Click_loc=driver.find_element(By.ID,'search')\n",
    "Click_loc.send_keys('Delhi')\n",
    "\n",
    "\n",
    "Click_Delhi=driver.find_element(By.CLASS_NAME,\"filter_filter_option_item__bvdpQ\")\n",
    "Click_Delhi.click()\n",
    "\n",
    "Show_result=driver.find_element(By.XPATH,\"/html/body/div[3]/div/div/div/div[4]/button[2]\")\n",
    "Show_result.click()"
   ]
  },
  {
   "cell_type": "code",
   "execution_count": 151,
   "id": "1f42258f",
   "metadata": {},
   "outputs": [],
   "source": [
    "#Filter For Salary\n",
    "\n",
    "\n",
    "Search_Jobs=driver.find_element(By.XPATH,'//*[@id=\"__next\"]/div[1]/div[3]/div/div[1]/div/div[2]/div/ul/li[3]/button')\n",
    "Search_Jobs.click() \n",
    "\n",
    "Click_Sal=driver.find_element(By.ID,'search')\n",
    "Click_Sal.send_keys('3 TO 5 Lakh')\n",
    "\n",
    "Click_lakh=driver.find_element(By.CLASS_NAME,\"filter_filter_option_item__bvdpQ\")\n",
    "Click_lakh.click()\n",
    "\n",
    "Show_result=driver.find_element(By.XPATH,\"/html/body/div[3]/div/div/div/div[4]/button[2]\")\n",
    "Show_result.click()\n"
   ]
  },
  {
   "cell_type": "code",
   "execution_count": null,
   "id": "a0404ba2",
   "metadata": {},
   "outputs": [],
   "source": [
    "\n",
    "Click_Sal=driver.find_element(By.ID,'search')\n",
    "Click_Sal.send_keys('3-6 lakh')\n",
    "\n",
    "\n",
    "Click_lakh=driver.find_element(By.CLASS_NAME,\"\")\n",
    "Click_lakh.click()\n",
    "\n",
    "Show_result=driver.find_element(By.XPATH,\"/html/body/div[3]/div/div/div/div[4]/button[2]\")\n",
    "Show_result.click()\n"
   ]
  },
  {
   "cell_type": "code",
   "execution_count": 154,
   "id": "78299b0f",
   "metadata": {},
   "outputs": [],
   "source": [
    "Click_lakh=driver.find_element(By.CLASS_NAME,\"filter_filter_option_item__bvdpQ\")\n",
    "Click_lakh.click()\n",
    "\n"
   ]
  },
  {
   "cell_type": "code",
   "execution_count": null,
   "id": "b8928cb5",
   "metadata": {},
   "outputs": [],
   "source": [
    "\n",
    "Click_Delhi=driver.find_element(By.CLASS_NAME,\"filter_filter_option_item__bvdpQ\")\n",
    "Click_Delhi.click()"
   ]
  },
  {
   "cell_type": "code",
   "execution_count": null,
   "id": "a745d697",
   "metadata": {},
   "outputs": [],
   "source": []
  },
  {
   "cell_type": "code",
   "execution_count": null,
   "id": "217f61da",
   "metadata": {},
   "outputs": [],
   "source": []
  },
  {
   "cell_type": "code",
   "execution_count": null,
   "id": "13f7d0fb",
   "metadata": {},
   "outputs": [],
   "source": []
  },
  {
   "cell_type": "code",
   "execution_count": null,
   "id": "cf4d9048",
   "metadata": {},
   "outputs": [],
   "source": []
  },
  {
   "cell_type": "code",
   "execution_count": null,
   "id": "012cdc70",
   "metadata": {},
   "outputs": [],
   "source": []
  },
  {
   "cell_type": "code",
   "execution_count": 26,
   "id": "476824ac",
   "metadata": {},
   "outputs": [
    {
     "ename": "InvalidSelectorException",
     "evalue": "Message: invalid selector: The result of the xpath expression \"/html/body/div[1]/div[2]/div[4]/div/div[2]/div[1]/div/div/div[1]/div[1]/div[1]/div[3]/div[1]/text()\" is: [object Text]. It should be an element.\n  (Session info: chrome=121.0.6167.161); For documentation on this error, please visit: https://www.selenium.dev/documentation/webdriver/troubleshooting/errors#invalid-selector-exception\nStacktrace:\n\tGetHandleVerifier [0x00007FF65B815E42+3538674]\n\t(No symbol) [0x00007FF65B434C02]\n\t(No symbol) [0x00007FF65B2E5AEB]\n\t(No symbol) [0x00007FF65B2EAD39]\n\t(No symbol) [0x00007FF65B2ED150]\n\t(No symbol) [0x00007FF65B2ED210]\n\t(No symbol) [0x00007FF65B32BBBC]\n\t(No symbol) [0x00007FF65B32C0CC]\n\t(No symbol) [0x00007FF65B36E4A7]\n\t(No symbol) [0x00007FF65B34F0EF]\n\t(No symbol) [0x00007FF65B36BDE3]\n\t(No symbol) [0x00007FF65B34EE53]\n\t(No symbol) [0x00007FF65B31F514]\n\t(No symbol) [0x00007FF65B320631]\n\tGetHandleVerifier [0x00007FF65B846CAD+3738973]\n\tGetHandleVerifier [0x00007FF65B89C506+4089270]\n\tGetHandleVerifier [0x00007FF65B894823+4057299]\n\tGetHandleVerifier [0x00007FF65B565C49+720121]\n\t(No symbol) [0x00007FF65B44126F]\n\t(No symbol) [0x00007FF65B43C304]\n\t(No symbol) [0x00007FF65B43C432]\n\t(No symbol) [0x00007FF65B42BD04]\n\tBaseThreadInitThunk [0x00007FFECDC7257D+29]\n\tRtlUserThreadStart [0x00007FFECEFCAA58+40]\n",
     "output_type": "error",
     "traceback": [
      "\u001b[1;31m---------------------------------------------------------------------------\u001b[0m",
      "\u001b[1;31mInvalidSelectorException\u001b[0m                  Traceback (most recent call last)",
      "Cell \u001b[1;32mIn[26], line 2\u001b[0m\n\u001b[0;32m      1\u001b[0m Vil\u001b[38;5;241m=\u001b[39m[]\n\u001b[1;32m----> 2\u001b[0m KANK\u001b[38;5;241m=\u001b[39m\u001b[43mdriver\u001b[49m\u001b[38;5;241;43m.\u001b[39;49m\u001b[43mfind_elements\u001b[49m\u001b[43m(\u001b[49m\u001b[43mBy\u001b[49m\u001b[38;5;241;43m.\u001b[39;49m\u001b[43mXPATH\u001b[49m\u001b[43m,\u001b[49m\u001b[38;5;124;43m'\u001b[39;49m\u001b[38;5;124;43m/html/body/div[1]/div[2]/div[4]/div/div[2]/div[1]/div/div/div[1]/div[1]/div[1]/div[3]/div[1]/text()\u001b[39;49m\u001b[38;5;124;43m'\u001b[39;49m\u001b[43m)\u001b[49m\n\u001b[0;32m      4\u001b[0m \u001b[38;5;28;01mfor\u001b[39;00m i \u001b[38;5;129;01min\u001b[39;00m KANK:\n\u001b[0;32m      5\u001b[0m     VVV\u001b[38;5;241m=\u001b[39mi\u001b[38;5;241m.\u001b[39mtext\n",
      "File \u001b[1;32m~\\anaconda3\\lib\\site-packages\\selenium\\webdriver\\remote\\webdriver.py:771\u001b[0m, in \u001b[0;36mWebDriver.find_elements\u001b[1;34m(self, by, value)\u001b[0m\n\u001b[0;32m    767\u001b[0m     value \u001b[38;5;241m=\u001b[39m \u001b[38;5;124mf\u001b[39m\u001b[38;5;124m'\u001b[39m\u001b[38;5;124m[name=\u001b[39m\u001b[38;5;124m\"\u001b[39m\u001b[38;5;132;01m{\u001b[39;00mvalue\u001b[38;5;132;01m}\u001b[39;00m\u001b[38;5;124m\"\u001b[39m\u001b[38;5;124m]\u001b[39m\u001b[38;5;124m'\u001b[39m\n\u001b[0;32m    769\u001b[0m \u001b[38;5;66;03m# Return empty list if driver returns null\u001b[39;00m\n\u001b[0;32m    770\u001b[0m \u001b[38;5;66;03m# See https://github.com/SeleniumHQ/selenium/issues/4555\u001b[39;00m\n\u001b[1;32m--> 771\u001b[0m \u001b[38;5;28;01mreturn\u001b[39;00m \u001b[38;5;28;43mself\u001b[39;49m\u001b[38;5;241;43m.\u001b[39;49m\u001b[43mexecute\u001b[49m\u001b[43m(\u001b[49m\u001b[43mCommand\u001b[49m\u001b[38;5;241;43m.\u001b[39;49m\u001b[43mFIND_ELEMENTS\u001b[49m\u001b[43m,\u001b[49m\u001b[43m \u001b[49m\u001b[43m{\u001b[49m\u001b[38;5;124;43m\"\u001b[39;49m\u001b[38;5;124;43musing\u001b[39;49m\u001b[38;5;124;43m\"\u001b[39;49m\u001b[43m:\u001b[49m\u001b[43m \u001b[49m\u001b[43mby\u001b[49m\u001b[43m,\u001b[49m\u001b[43m \u001b[49m\u001b[38;5;124;43m\"\u001b[39;49m\u001b[38;5;124;43mvalue\u001b[39;49m\u001b[38;5;124;43m\"\u001b[39;49m\u001b[43m:\u001b[49m\u001b[43m \u001b[49m\u001b[43mvalue\u001b[49m\u001b[43m}\u001b[49m\u001b[43m)\u001b[49m[\u001b[38;5;124m\"\u001b[39m\u001b[38;5;124mvalue\u001b[39m\u001b[38;5;124m\"\u001b[39m] \u001b[38;5;129;01mor\u001b[39;00m []\n",
      "File \u001b[1;32m~\\anaconda3\\lib\\site-packages\\selenium\\webdriver\\remote\\webdriver.py:347\u001b[0m, in \u001b[0;36mWebDriver.execute\u001b[1;34m(self, driver_command, params)\u001b[0m\n\u001b[0;32m    345\u001b[0m response \u001b[38;5;241m=\u001b[39m \u001b[38;5;28mself\u001b[39m\u001b[38;5;241m.\u001b[39mcommand_executor\u001b[38;5;241m.\u001b[39mexecute(driver_command, params)\n\u001b[0;32m    346\u001b[0m \u001b[38;5;28;01mif\u001b[39;00m response:\n\u001b[1;32m--> 347\u001b[0m     \u001b[38;5;28;43mself\u001b[39;49m\u001b[38;5;241;43m.\u001b[39;49m\u001b[43merror_handler\u001b[49m\u001b[38;5;241;43m.\u001b[39;49m\u001b[43mcheck_response\u001b[49m\u001b[43m(\u001b[49m\u001b[43mresponse\u001b[49m\u001b[43m)\u001b[49m\n\u001b[0;32m    348\u001b[0m     response[\u001b[38;5;124m\"\u001b[39m\u001b[38;5;124mvalue\u001b[39m\u001b[38;5;124m\"\u001b[39m] \u001b[38;5;241m=\u001b[39m \u001b[38;5;28mself\u001b[39m\u001b[38;5;241m.\u001b[39m_unwrap_value(response\u001b[38;5;241m.\u001b[39mget(\u001b[38;5;124m\"\u001b[39m\u001b[38;5;124mvalue\u001b[39m\u001b[38;5;124m\"\u001b[39m, \u001b[38;5;28;01mNone\u001b[39;00m))\n\u001b[0;32m    349\u001b[0m     \u001b[38;5;28;01mreturn\u001b[39;00m response\n",
      "File \u001b[1;32m~\\anaconda3\\lib\\site-packages\\selenium\\webdriver\\remote\\errorhandler.py:229\u001b[0m, in \u001b[0;36mErrorHandler.check_response\u001b[1;34m(self, response)\u001b[0m\n\u001b[0;32m    227\u001b[0m         alert_text \u001b[38;5;241m=\u001b[39m value[\u001b[38;5;124m\"\u001b[39m\u001b[38;5;124malert\u001b[39m\u001b[38;5;124m\"\u001b[39m]\u001b[38;5;241m.\u001b[39mget(\u001b[38;5;124m\"\u001b[39m\u001b[38;5;124mtext\u001b[39m\u001b[38;5;124m\"\u001b[39m)\n\u001b[0;32m    228\u001b[0m     \u001b[38;5;28;01mraise\u001b[39;00m exception_class(message, screen, stacktrace, alert_text)  \u001b[38;5;66;03m# type: ignore[call-arg]  # mypy is not smart enough here\u001b[39;00m\n\u001b[1;32m--> 229\u001b[0m \u001b[38;5;28;01mraise\u001b[39;00m exception_class(message, screen, stacktrace)\n",
      "\u001b[1;31mInvalidSelectorException\u001b[0m: Message: invalid selector: The result of the xpath expression \"/html/body/div[1]/div[2]/div[4]/div/div[2]/div[1]/div/div/div[1]/div[1]/div[1]/div[3]/div[1]/text()\" is: [object Text]. It should be an element.\n  (Session info: chrome=121.0.6167.161); For documentation on this error, please visit: https://www.selenium.dev/documentation/webdriver/troubleshooting/errors#invalid-selector-exception\nStacktrace:\n\tGetHandleVerifier [0x00007FF65B815E42+3538674]\n\t(No symbol) [0x00007FF65B434C02]\n\t(No symbol) [0x00007FF65B2E5AEB]\n\t(No symbol) [0x00007FF65B2EAD39]\n\t(No symbol) [0x00007FF65B2ED150]\n\t(No symbol) [0x00007FF65B2ED210]\n\t(No symbol) [0x00007FF65B32BBBC]\n\t(No symbol) [0x00007FF65B32C0CC]\n\t(No symbol) [0x00007FF65B36E4A7]\n\t(No symbol) [0x00007FF65B34F0EF]\n\t(No symbol) [0x00007FF65B36BDE3]\n\t(No symbol) [0x00007FF65B34EE53]\n\t(No symbol) [0x00007FF65B31F514]\n\t(No symbol) [0x00007FF65B320631]\n\tGetHandleVerifier [0x00007FF65B846CAD+3738973]\n\tGetHandleVerifier [0x00007FF65B89C506+4089270]\n\tGetHandleVerifier [0x00007FF65B894823+4057299]\n\tGetHandleVerifier [0x00007FF65B565C49+720121]\n\t(No symbol) [0x00007FF65B44126F]\n\t(No symbol) [0x00007FF65B43C304]\n\t(No symbol) [0x00007FF65B43C432]\n\t(No symbol) [0x00007FF65B42BD04]\n\tBaseThreadInitThunk [0x00007FFECDC7257D+29]\n\tRtlUserThreadStart [0x00007FFECEFCAA58+40]\n"
     ]
    }
   ],
   "source": [
    "Vil=[]\n",
    "KANK=driver.find_elements(By.XPATH,'/html/body/div[1]/div[2]/div[4]/div/div[2]/div[1]/div/div/div[1]/div[1]/div[1]/div[3]/div[1]/text()')\n",
    "\n",
    "for i in KANK:\n",
    "    VVV=i.text\n",
    "    Vil.append(VVV)\n",
    "    print(Vil)"
   ]
  },
  {
   "cell_type": "code",
   "execution_count": 22,
   "id": "7437638e",
   "metadata": {},
   "outputs": [
    {
     "data": {
      "text/plain": [
       "[]"
      ]
     },
     "execution_count": 22,
     "metadata": {},
     "output_type": "execute_result"
    }
   ],
   "source": [
    "Vil"
   ]
  },
  {
   "cell_type": "code",
   "execution_count": 24,
   "id": "483ecda3",
   "metadata": {},
   "outputs": [
    {
     "ename": "SyntaxError",
     "evalue": "invalid syntax. Perhaps you forgot a comma? (850372742.py, line 2)",
     "output_type": "error",
     "traceback": [
      "\u001b[1;36m  Cell \u001b[1;32mIn[24], line 2\u001b[1;36m\u001b[0m\n\u001b[1;33m    experience_tags=driver.find_elements(By.XPATH,'//li[@class='fleft grey-text br2 placeHolderLi experience'] //span')\u001b[0m\n\u001b[1;37m                                                  ^\u001b[0m\n\u001b[1;31mSyntaxError\u001b[0m\u001b[1;31m:\u001b[0m invalid syntax. Perhaps you forgot a comma?\n"
     ]
    }
   ],
   "source": [
    "# so lets extract  all the tags having the experience required data\n",
    "experience_tags=driver.find_elements(By.XPATH,'//li[@class='fleft grey-text br2 placeHolderLi experience'] //span')\n",
    "experience_tags"
   ]
  },
  {
   "cell_type": "code",
   "execution_count": 25,
   "id": "f804627c",
   "metadata": {},
   "outputs": [
    {
     "ename": "AttributeError",
     "evalue": "'WebDriver' object has no attribute 'find_elements_by_xpath'",
     "output_type": "error",
     "traceback": [
      "\u001b[1;31m---------------------------------------------------------------------------\u001b[0m",
      "\u001b[1;31mAttributeError\u001b[0m                            Traceback (most recent call last)",
      "Cell \u001b[1;32mIn[25], line 1\u001b[0m\n\u001b[1;32m----> 1\u001b[0m experience_required \u001b[38;5;241m=\u001b[39m \u001b[43mdriver\u001b[49m\u001b[38;5;241;43m.\u001b[39;49m\u001b[43mfind_elements_by_xpath\u001b[49m(\u001b[38;5;124m'\u001b[39m\u001b[38;5;124m//li[@class=\u001b[39m\u001b[38;5;124m\"\u001b[39m\u001b[38;5;124mw-30 mr-10 result-display-exp\u001b[39m\u001b[38;5;124m\"\u001b[39m\u001b[38;5;124m]/span\u001b[39m\u001b[38;5;124m'\u001b[39m)\n",
      "\u001b[1;31mAttributeError\u001b[0m: 'WebDriver' object has no attribute 'find_elements_by_xpath'"
     ]
    }
   ],
   "source": [
    "experience_required = driver.find_elements_by_xpath('//li[@class=\"w-30 mr-10 result-display-exp\"]/span')\n"
   ]
  },
  {
   "cell_type": "code",
   "execution_count": null,
   "id": "6d73940b",
   "metadata": {},
   "outputs": [],
   "source": []
  },
  {
   "cell_type": "code",
   "execution_count": null,
   "id": "82fb0723",
   "metadata": {},
   "outputs": [],
   "source": []
  },
  {
   "cell_type": "code",
   "execution_count": null,
   "id": "200d6b52",
   "metadata": {},
   "outputs": [],
   "source": []
  },
  {
   "cell_type": "code",
   "execution_count": null,
   "id": "1fdb9168",
   "metadata": {},
   "outputs": [],
   "source": []
  },
  {
   "cell_type": "code",
   "execution_count": null,
   "id": "d541c36a",
   "metadata": {},
   "outputs": [],
   "source": []
  },
  {
   "cell_type": "code",
   "execution_count": null,
   "id": "648f124f",
   "metadata": {},
   "outputs": [],
   "source": []
  },
  {
   "cell_type": "code",
   "execution_count": 32,
   "id": "be89de1f",
   "metadata": {},
   "outputs": [],
   "source": [
    "#Que-1\n",
    "\n",
    "driver=webdriver.Chrome()\n",
    "\n",
    "driver.get(\"https://www.shine.com/\")\n"
   ]
  },
  {
   "cell_type": "code",
   "execution_count": 33,
   "id": "69a1d58f",
   "metadata": {},
   "outputs": [],
   "source": [
    "time.sleep(20)\n",
    "Click_x=driver.find_element(By.CLASS_NAME,\"btn-close \")\n",
    "Click_x.click()"
   ]
  },
  {
   "cell_type": "code",
   "execution_count": null,
   "id": "2731cda8",
   "metadata": {},
   "outputs": [],
   "source": []
  },
  {
   "cell_type": "code",
   "execution_count": null,
   "id": "98fbe8be",
   "metadata": {},
   "outputs": [],
   "source": []
  },
  {
   "cell_type": "code",
   "execution_count": 46,
   "id": "cb0d3efc",
   "metadata": {},
   "outputs": [
    {
     "ename": "ElementNotInteractableException",
     "evalue": "Message: element not interactable\n  (Session info: chrome=121.0.6167.161)\nStacktrace:\n\tGetHandleVerifier [0x00007FF6D1055E42+3538674]\n\t(No symbol) [0x00007FF6D0C74C02]\n\t(No symbol) [0x00007FF6D0B2599D]\n\t(No symbol) [0x00007FF6D0B6D406]\n\t(No symbol) [0x00007FF6D0B61950]\n\t(No symbol) [0x00007FF6D0B8F0AA]\n\t(No symbol) [0x00007FF6D0B6124A]\n\t(No symbol) [0x00007FF6D0B8F2C0]\n\t(No symbol) [0x00007FF6D0BABDE3]\n\t(No symbol) [0x00007FF6D0B8EE53]\n\t(No symbol) [0x00007FF6D0B5F514]\n\t(No symbol) [0x00007FF6D0B60631]\n\tGetHandleVerifier [0x00007FF6D1086CAD+3738973]\n\tGetHandleVerifier [0x00007FF6D10DC506+4089270]\n\tGetHandleVerifier [0x00007FF6D10D4823+4057299]\n\tGetHandleVerifier [0x00007FF6D0DA5C49+720121]\n\t(No symbol) [0x00007FF6D0C8126F]\n\t(No symbol) [0x00007FF6D0C7C304]\n\t(No symbol) [0x00007FF6D0C7C432]\n\t(No symbol) [0x00007FF6D0C6BD04]\n\tBaseThreadInitThunk [0x00007FFECDC7257D+29]\n\tRtlUserThreadStart [0x00007FFECEFCAA58+40]\n",
     "output_type": "error",
     "traceback": [
      "\u001b[1;31m---------------------------------------------------------------------------\u001b[0m",
      "\u001b[1;31mElementNotInteractableException\u001b[0m           Traceback (most recent call last)",
      "Cell \u001b[1;32mIn[46], line 2\u001b[0m\n\u001b[0;32m      1\u001b[0m Click\u001b[38;5;241m=\u001b[39mdriver\u001b[38;5;241m.\u001b[39mfind_element(By\u001b[38;5;241m.\u001b[39mCLASS_NAME,\u001b[38;5;124m\"\u001b[39m\u001b[38;5;124mmobileBottomNav_mfnJobs__z85Dv\u001b[39m\u001b[38;5;124m\"\u001b[39m)\n\u001b[1;32m----> 2\u001b[0m \u001b[43mClick\u001b[49m\u001b[38;5;241;43m.\u001b[39;49m\u001b[43mclick\u001b[49m\u001b[43m(\u001b[49m\u001b[43m)\u001b[49m\n",
      "File \u001b[1;32m~\\anaconda3\\lib\\site-packages\\selenium\\webdriver\\remote\\webelement.py:94\u001b[0m, in \u001b[0;36mWebElement.click\u001b[1;34m(self)\u001b[0m\n\u001b[0;32m     92\u001b[0m \u001b[38;5;28;01mdef\u001b[39;00m \u001b[38;5;21mclick\u001b[39m(\u001b[38;5;28mself\u001b[39m) \u001b[38;5;241m-\u001b[39m\u001b[38;5;241m>\u001b[39m \u001b[38;5;28;01mNone\u001b[39;00m:\n\u001b[0;32m     93\u001b[0m     \u001b[38;5;124;03m\"\"\"Clicks the element.\"\"\"\u001b[39;00m\n\u001b[1;32m---> 94\u001b[0m     \u001b[38;5;28;43mself\u001b[39;49m\u001b[38;5;241;43m.\u001b[39;49m\u001b[43m_execute\u001b[49m\u001b[43m(\u001b[49m\u001b[43mCommand\u001b[49m\u001b[38;5;241;43m.\u001b[39;49m\u001b[43mCLICK_ELEMENT\u001b[49m\u001b[43m)\u001b[49m\n",
      "File \u001b[1;32m~\\anaconda3\\lib\\site-packages\\selenium\\webdriver\\remote\\webelement.py:395\u001b[0m, in \u001b[0;36mWebElement._execute\u001b[1;34m(self, command, params)\u001b[0m\n\u001b[0;32m    393\u001b[0m     params \u001b[38;5;241m=\u001b[39m {}\n\u001b[0;32m    394\u001b[0m params[\u001b[38;5;124m\"\u001b[39m\u001b[38;5;124mid\u001b[39m\u001b[38;5;124m\"\u001b[39m] \u001b[38;5;241m=\u001b[39m \u001b[38;5;28mself\u001b[39m\u001b[38;5;241m.\u001b[39m_id\n\u001b[1;32m--> 395\u001b[0m \u001b[38;5;28;01mreturn\u001b[39;00m \u001b[38;5;28;43mself\u001b[39;49m\u001b[38;5;241;43m.\u001b[39;49m\u001b[43m_parent\u001b[49m\u001b[38;5;241;43m.\u001b[39;49m\u001b[43mexecute\u001b[49m\u001b[43m(\u001b[49m\u001b[43mcommand\u001b[49m\u001b[43m,\u001b[49m\u001b[43m \u001b[49m\u001b[43mparams\u001b[49m\u001b[43m)\u001b[49m\n",
      "File \u001b[1;32m~\\anaconda3\\lib\\site-packages\\selenium\\webdriver\\remote\\webdriver.py:347\u001b[0m, in \u001b[0;36mWebDriver.execute\u001b[1;34m(self, driver_command, params)\u001b[0m\n\u001b[0;32m    345\u001b[0m response \u001b[38;5;241m=\u001b[39m \u001b[38;5;28mself\u001b[39m\u001b[38;5;241m.\u001b[39mcommand_executor\u001b[38;5;241m.\u001b[39mexecute(driver_command, params)\n\u001b[0;32m    346\u001b[0m \u001b[38;5;28;01mif\u001b[39;00m response:\n\u001b[1;32m--> 347\u001b[0m     \u001b[38;5;28;43mself\u001b[39;49m\u001b[38;5;241;43m.\u001b[39;49m\u001b[43merror_handler\u001b[49m\u001b[38;5;241;43m.\u001b[39;49m\u001b[43mcheck_response\u001b[49m\u001b[43m(\u001b[49m\u001b[43mresponse\u001b[49m\u001b[43m)\u001b[49m\n\u001b[0;32m    348\u001b[0m     response[\u001b[38;5;124m\"\u001b[39m\u001b[38;5;124mvalue\u001b[39m\u001b[38;5;124m\"\u001b[39m] \u001b[38;5;241m=\u001b[39m \u001b[38;5;28mself\u001b[39m\u001b[38;5;241m.\u001b[39m_unwrap_value(response\u001b[38;5;241m.\u001b[39mget(\u001b[38;5;124m\"\u001b[39m\u001b[38;5;124mvalue\u001b[39m\u001b[38;5;124m\"\u001b[39m, \u001b[38;5;28;01mNone\u001b[39;00m))\n\u001b[0;32m    349\u001b[0m     \u001b[38;5;28;01mreturn\u001b[39;00m response\n",
      "File \u001b[1;32m~\\anaconda3\\lib\\site-packages\\selenium\\webdriver\\remote\\errorhandler.py:229\u001b[0m, in \u001b[0;36mErrorHandler.check_response\u001b[1;34m(self, response)\u001b[0m\n\u001b[0;32m    227\u001b[0m         alert_text \u001b[38;5;241m=\u001b[39m value[\u001b[38;5;124m\"\u001b[39m\u001b[38;5;124malert\u001b[39m\u001b[38;5;124m\"\u001b[39m]\u001b[38;5;241m.\u001b[39mget(\u001b[38;5;124m\"\u001b[39m\u001b[38;5;124mtext\u001b[39m\u001b[38;5;124m\"\u001b[39m)\n\u001b[0;32m    228\u001b[0m     \u001b[38;5;28;01mraise\u001b[39;00m exception_class(message, screen, stacktrace, alert_text)  \u001b[38;5;66;03m# type: ignore[call-arg]  # mypy is not smart enough here\u001b[39;00m\n\u001b[1;32m--> 229\u001b[0m \u001b[38;5;28;01mraise\u001b[39;00m exception_class(message, screen, stacktrace)\n",
      "\u001b[1;31mElementNotInteractableException\u001b[0m: Message: element not interactable\n  (Session info: chrome=121.0.6167.161)\nStacktrace:\n\tGetHandleVerifier [0x00007FF6D1055E42+3538674]\n\t(No symbol) [0x00007FF6D0C74C02]\n\t(No symbol) [0x00007FF6D0B2599D]\n\t(No symbol) [0x00007FF6D0B6D406]\n\t(No symbol) [0x00007FF6D0B61950]\n\t(No symbol) [0x00007FF6D0B8F0AA]\n\t(No symbol) [0x00007FF6D0B6124A]\n\t(No symbol) [0x00007FF6D0B8F2C0]\n\t(No symbol) [0x00007FF6D0BABDE3]\n\t(No symbol) [0x00007FF6D0B8EE53]\n\t(No symbol) [0x00007FF6D0B5F514]\n\t(No symbol) [0x00007FF6D0B60631]\n\tGetHandleVerifier [0x00007FF6D1086CAD+3738973]\n\tGetHandleVerifier [0x00007FF6D10DC506+4089270]\n\tGetHandleVerifier [0x00007FF6D10D4823+4057299]\n\tGetHandleVerifier [0x00007FF6D0DA5C49+720121]\n\t(No symbol) [0x00007FF6D0C8126F]\n\t(No symbol) [0x00007FF6D0C7C304]\n\t(No symbol) [0x00007FF6D0C7C432]\n\t(No symbol) [0x00007FF6D0C6BD04]\n\tBaseThreadInitThunk [0x00007FFECDC7257D+29]\n\tRtlUserThreadStart [0x00007FFECEFCAA58+40]\n"
     ]
    }
   ],
   "source": [
    "Click=driver.find_element(By.CLASS_NAME,\"mobileBottomNav_mfnJobs__z85Dv\")\n",
    "Click.click()"
   ]
  },
  {
   "cell_type": "code",
   "execution_count": 27,
   "id": "8d5805b7",
   "metadata": {},
   "outputs": [
    {
     "ename": "NoSuchElementException",
     "evalue": "Message: no such element: Unable to locate element: {\"method\":\"css selector\",\"selector\":\".cls_toggle_search searchWrap ml-30 mt-10\"}\n  (Session info: chrome=121.0.6167.161); For documentation on this error, please visit: https://www.selenium.dev/documentation/webdriver/troubleshooting/errors#no-such-element-exception\nStacktrace:\n\tGetHandleVerifier [0x00007FF6D1055E42+3538674]\n\t(No symbol) [0x00007FF6D0C74C02]\n\t(No symbol) [0x00007FF6D0B25AEB]\n\t(No symbol) [0x00007FF6D0B6BF4E]\n\t(No symbol) [0x00007FF6D0B6C0CC]\n\t(No symbol) [0x00007FF6D0BAE477]\n\t(No symbol) [0x00007FF6D0B8F0EF]\n\t(No symbol) [0x00007FF6D0BABDE3]\n\t(No symbol) [0x00007FF6D0B8EE53]\n\t(No symbol) [0x00007FF6D0B5F514]\n\t(No symbol) [0x00007FF6D0B60631]\n\tGetHandleVerifier [0x00007FF6D1086CAD+3738973]\n\tGetHandleVerifier [0x00007FF6D10DC506+4089270]\n\tGetHandleVerifier [0x00007FF6D10D4823+4057299]\n\tGetHandleVerifier [0x00007FF6D0DA5C49+720121]\n\t(No symbol) [0x00007FF6D0C8126F]\n\t(No symbol) [0x00007FF6D0C7C304]\n\t(No symbol) [0x00007FF6D0C7C432]\n\t(No symbol) [0x00007FF6D0C6BD04]\n\tBaseThreadInitThunk [0x00007FFECDC7257D+29]\n\tRtlUserThreadStart [0x00007FFECEFCAA58+40]\n",
     "output_type": "error",
     "traceback": [
      "\u001b[1;31m---------------------------------------------------------------------------\u001b[0m",
      "\u001b[1;31mNoSuchElementException\u001b[0m                    Traceback (most recent call last)",
      "Cell \u001b[1;32mIn[27], line 9\u001b[0m\n\u001b[0;32m      6\u001b[0m Click_r\u001b[38;5;241m.\u001b[39mclick()\n\u001b[0;32m      7\u001b[0m time\u001b[38;5;241m.\u001b[39msleep(\u001b[38;5;241m3\u001b[39m)\n\u001b[1;32m----> 9\u001b[0m Click\u001b[38;5;241m=\u001b[39m\u001b[43mdriver\u001b[49m\u001b[38;5;241;43m.\u001b[39;49m\u001b[43mfind_element\u001b[49m\u001b[43m(\u001b[49m\u001b[43mBy\u001b[49m\u001b[38;5;241;43m.\u001b[39;49m\u001b[43mCLASS_NAME\u001b[49m\u001b[43m,\u001b[49m\u001b[38;5;124;43m\"\u001b[39;49m\u001b[38;5;124;43mcls_toggle_search searchWrap ml-30 mt-10\u001b[39;49m\u001b[38;5;124;43m\"\u001b[39;49m\u001b[43m)\u001b[49m\n\u001b[0;32m     11\u001b[0m Click\u001b[38;5;241m.\u001b[39mclick()\n",
      "File \u001b[1;32m~\\anaconda3\\lib\\site-packages\\selenium\\webdriver\\remote\\webdriver.py:741\u001b[0m, in \u001b[0;36mWebDriver.find_element\u001b[1;34m(self, by, value)\u001b[0m\n\u001b[0;32m    738\u001b[0m     by \u001b[38;5;241m=\u001b[39m By\u001b[38;5;241m.\u001b[39mCSS_SELECTOR\n\u001b[0;32m    739\u001b[0m     value \u001b[38;5;241m=\u001b[39m \u001b[38;5;124mf\u001b[39m\u001b[38;5;124m'\u001b[39m\u001b[38;5;124m[name=\u001b[39m\u001b[38;5;124m\"\u001b[39m\u001b[38;5;132;01m{\u001b[39;00mvalue\u001b[38;5;132;01m}\u001b[39;00m\u001b[38;5;124m\"\u001b[39m\u001b[38;5;124m]\u001b[39m\u001b[38;5;124m'\u001b[39m\n\u001b[1;32m--> 741\u001b[0m \u001b[38;5;28;01mreturn\u001b[39;00m \u001b[38;5;28;43mself\u001b[39;49m\u001b[38;5;241;43m.\u001b[39;49m\u001b[43mexecute\u001b[49m\u001b[43m(\u001b[49m\u001b[43mCommand\u001b[49m\u001b[38;5;241;43m.\u001b[39;49m\u001b[43mFIND_ELEMENT\u001b[49m\u001b[43m,\u001b[49m\u001b[43m \u001b[49m\u001b[43m{\u001b[49m\u001b[38;5;124;43m\"\u001b[39;49m\u001b[38;5;124;43musing\u001b[39;49m\u001b[38;5;124;43m\"\u001b[39;49m\u001b[43m:\u001b[49m\u001b[43m \u001b[49m\u001b[43mby\u001b[49m\u001b[43m,\u001b[49m\u001b[43m \u001b[49m\u001b[38;5;124;43m\"\u001b[39;49m\u001b[38;5;124;43mvalue\u001b[39;49m\u001b[38;5;124;43m\"\u001b[39;49m\u001b[43m:\u001b[49m\u001b[43m \u001b[49m\u001b[43mvalue\u001b[49m\u001b[43m}\u001b[49m\u001b[43m)\u001b[49m[\u001b[38;5;124m\"\u001b[39m\u001b[38;5;124mvalue\u001b[39m\u001b[38;5;124m\"\u001b[39m]\n",
      "File \u001b[1;32m~\\anaconda3\\lib\\site-packages\\selenium\\webdriver\\remote\\webdriver.py:347\u001b[0m, in \u001b[0;36mWebDriver.execute\u001b[1;34m(self, driver_command, params)\u001b[0m\n\u001b[0;32m    345\u001b[0m response \u001b[38;5;241m=\u001b[39m \u001b[38;5;28mself\u001b[39m\u001b[38;5;241m.\u001b[39mcommand_executor\u001b[38;5;241m.\u001b[39mexecute(driver_command, params)\n\u001b[0;32m    346\u001b[0m \u001b[38;5;28;01mif\u001b[39;00m response:\n\u001b[1;32m--> 347\u001b[0m     \u001b[38;5;28;43mself\u001b[39;49m\u001b[38;5;241;43m.\u001b[39;49m\u001b[43merror_handler\u001b[49m\u001b[38;5;241;43m.\u001b[39;49m\u001b[43mcheck_response\u001b[49m\u001b[43m(\u001b[49m\u001b[43mresponse\u001b[49m\u001b[43m)\u001b[49m\n\u001b[0;32m    348\u001b[0m     response[\u001b[38;5;124m\"\u001b[39m\u001b[38;5;124mvalue\u001b[39m\u001b[38;5;124m\"\u001b[39m] \u001b[38;5;241m=\u001b[39m \u001b[38;5;28mself\u001b[39m\u001b[38;5;241m.\u001b[39m_unwrap_value(response\u001b[38;5;241m.\u001b[39mget(\u001b[38;5;124m\"\u001b[39m\u001b[38;5;124mvalue\u001b[39m\u001b[38;5;124m\"\u001b[39m, \u001b[38;5;28;01mNone\u001b[39;00m))\n\u001b[0;32m    349\u001b[0m     \u001b[38;5;28;01mreturn\u001b[39;00m response\n",
      "File \u001b[1;32m~\\anaconda3\\lib\\site-packages\\selenium\\webdriver\\remote\\errorhandler.py:229\u001b[0m, in \u001b[0;36mErrorHandler.check_response\u001b[1;34m(self, response)\u001b[0m\n\u001b[0;32m    227\u001b[0m         alert_text \u001b[38;5;241m=\u001b[39m value[\u001b[38;5;124m\"\u001b[39m\u001b[38;5;124malert\u001b[39m\u001b[38;5;124m\"\u001b[39m]\u001b[38;5;241m.\u001b[39mget(\u001b[38;5;124m\"\u001b[39m\u001b[38;5;124mtext\u001b[39m\u001b[38;5;124m\"\u001b[39m)\n\u001b[0;32m    228\u001b[0m     \u001b[38;5;28;01mraise\u001b[39;00m exception_class(message, screen, stacktrace, alert_text)  \u001b[38;5;66;03m# type: ignore[call-arg]  # mypy is not smart enough here\u001b[39;00m\n\u001b[1;32m--> 229\u001b[0m \u001b[38;5;28;01mraise\u001b[39;00m exception_class(message, screen, stacktrace)\n",
      "\u001b[1;31mNoSuchElementException\u001b[0m: Message: no such element: Unable to locate element: {\"method\":\"css selector\",\"selector\":\".cls_toggle_search searchWrap ml-30 mt-10\"}\n  (Session info: chrome=121.0.6167.161); For documentation on this error, please visit: https://www.selenium.dev/documentation/webdriver/troubleshooting/errors#no-such-element-exception\nStacktrace:\n\tGetHandleVerifier [0x00007FF6D1055E42+3538674]\n\t(No symbol) [0x00007FF6D0C74C02]\n\t(No symbol) [0x00007FF6D0B25AEB]\n\t(No symbol) [0x00007FF6D0B6BF4E]\n\t(No symbol) [0x00007FF6D0B6C0CC]\n\t(No symbol) [0x00007FF6D0BAE477]\n\t(No symbol) [0x00007FF6D0B8F0EF]\n\t(No symbol) [0x00007FF6D0BABDE3]\n\t(No symbol) [0x00007FF6D0B8EE53]\n\t(No symbol) [0x00007FF6D0B5F514]\n\t(No symbol) [0x00007FF6D0B60631]\n\tGetHandleVerifier [0x00007FF6D1086CAD+3738973]\n\tGetHandleVerifier [0x00007FF6D10DC506+4089270]\n\tGetHandleVerifier [0x00007FF6D10D4823+4057299]\n\tGetHandleVerifier [0x00007FF6D0DA5C49+720121]\n\t(No symbol) [0x00007FF6D0C8126F]\n\t(No symbol) [0x00007FF6D0C7C304]\n\t(No symbol) [0x00007FF6D0C7C432]\n\t(No symbol) [0x00007FF6D0C6BD04]\n\tBaseThreadInitThunk [0x00007FFECDC7257D+29]\n\tRtlUserThreadStart [0x00007FFECEFCAA58+40]\n"
     ]
    }
   ],
   "source": [
    "time.sleep(15)\n",
    "Click_x=driver.find_element(By.CLASS_NAME,\"btn-close \")\n",
    "Click_x.click()\n",
    "time.sleep(6)\n",
    "Click_r=driver.find_element(By.CLASS_NAME,\"main\")\n",
    "Click_r.click()\n",
    "time.sleep(3)\n",
    "\n",
    "Click=driver.find_element(By.CLASS_NAME,\"cls_toggle_search searchWrap ml-30 mt-10\")\n",
    "\n",
    "Click.click()"
   ]
  },
  {
   "cell_type": "code",
   "execution_count": 47,
   "id": "eb790529",
   "metadata": {},
   "outputs": [
    {
     "ename": "NoSuchElementException",
     "evalue": "Message: no such element: Unable to locate element: {\"method\":\"css selector\",\"selector\":\".cls_toggle_search searchWrap ml-30 mt-10\"}\n  (Session info: chrome=121.0.6167.161); For documentation on this error, please visit: https://www.selenium.dev/documentation/webdriver/troubleshooting/errors#no-such-element-exception\nStacktrace:\n\tGetHandleVerifier [0x00007FF6D1055E42+3538674]\n\t(No symbol) [0x00007FF6D0C74C02]\n\t(No symbol) [0x00007FF6D0B25AEB]\n\t(No symbol) [0x00007FF6D0B6BF4E]\n\t(No symbol) [0x00007FF6D0B6C0CC]\n\t(No symbol) [0x00007FF6D0BAE477]\n\t(No symbol) [0x00007FF6D0B8F0EF]\n\t(No symbol) [0x00007FF6D0BABDE3]\n\t(No symbol) [0x00007FF6D0B8EE53]\n\t(No symbol) [0x00007FF6D0B5F514]\n\t(No symbol) [0x00007FF6D0B60631]\n\tGetHandleVerifier [0x00007FF6D1086CAD+3738973]\n\tGetHandleVerifier [0x00007FF6D10DC506+4089270]\n\tGetHandleVerifier [0x00007FF6D10D4823+4057299]\n\tGetHandleVerifier [0x00007FF6D0DA5C49+720121]\n\t(No symbol) [0x00007FF6D0C8126F]\n\t(No symbol) [0x00007FF6D0C7C304]\n\t(No symbol) [0x00007FF6D0C7C432]\n\t(No symbol) [0x00007FF6D0C6BD04]\n\tBaseThreadInitThunk [0x00007FFECDC7257D+29]\n\tRtlUserThreadStart [0x00007FFECEFCAA58+40]\n",
     "output_type": "error",
     "traceback": [
      "\u001b[1;31m---------------------------------------------------------------------------\u001b[0m",
      "\u001b[1;31mNoSuchElementException\u001b[0m                    Traceback (most recent call last)",
      "Cell \u001b[1;32mIn[47], line 3\u001b[0m\n\u001b[0;32m      1\u001b[0m time\u001b[38;5;241m.\u001b[39msleep(\u001b[38;5;241m2\u001b[39m)\n\u001b[1;32m----> 3\u001b[0m Click\u001b[38;5;241m=\u001b[39m\u001b[43mdriver\u001b[49m\u001b[38;5;241;43m.\u001b[39;49m\u001b[43mfind_element\u001b[49m\u001b[43m(\u001b[49m\u001b[43mBy\u001b[49m\u001b[38;5;241;43m.\u001b[39;49m\u001b[43mCLASS_NAME\u001b[49m\u001b[43m,\u001b[49m\u001b[38;5;124;43m\"\u001b[39;49m\u001b[38;5;124;43mcls_toggle_search searchWrap ml-30 mt-10\u001b[39;49m\u001b[38;5;124;43m\"\u001b[39;49m\u001b[43m)\u001b[49m\n\u001b[0;32m      5\u001b[0m Click\u001b[38;5;241m.\u001b[39mclick()\n",
      "File \u001b[1;32m~\\anaconda3\\lib\\site-packages\\selenium\\webdriver\\remote\\webdriver.py:741\u001b[0m, in \u001b[0;36mWebDriver.find_element\u001b[1;34m(self, by, value)\u001b[0m\n\u001b[0;32m    738\u001b[0m     by \u001b[38;5;241m=\u001b[39m By\u001b[38;5;241m.\u001b[39mCSS_SELECTOR\n\u001b[0;32m    739\u001b[0m     value \u001b[38;5;241m=\u001b[39m \u001b[38;5;124mf\u001b[39m\u001b[38;5;124m'\u001b[39m\u001b[38;5;124m[name=\u001b[39m\u001b[38;5;124m\"\u001b[39m\u001b[38;5;132;01m{\u001b[39;00mvalue\u001b[38;5;132;01m}\u001b[39;00m\u001b[38;5;124m\"\u001b[39m\u001b[38;5;124m]\u001b[39m\u001b[38;5;124m'\u001b[39m\n\u001b[1;32m--> 741\u001b[0m \u001b[38;5;28;01mreturn\u001b[39;00m \u001b[38;5;28;43mself\u001b[39;49m\u001b[38;5;241;43m.\u001b[39;49m\u001b[43mexecute\u001b[49m\u001b[43m(\u001b[49m\u001b[43mCommand\u001b[49m\u001b[38;5;241;43m.\u001b[39;49m\u001b[43mFIND_ELEMENT\u001b[49m\u001b[43m,\u001b[49m\u001b[43m \u001b[49m\u001b[43m{\u001b[49m\u001b[38;5;124;43m\"\u001b[39;49m\u001b[38;5;124;43musing\u001b[39;49m\u001b[38;5;124;43m\"\u001b[39;49m\u001b[43m:\u001b[49m\u001b[43m \u001b[49m\u001b[43mby\u001b[49m\u001b[43m,\u001b[49m\u001b[43m \u001b[49m\u001b[38;5;124;43m\"\u001b[39;49m\u001b[38;5;124;43mvalue\u001b[39;49m\u001b[38;5;124;43m\"\u001b[39;49m\u001b[43m:\u001b[49m\u001b[43m \u001b[49m\u001b[43mvalue\u001b[49m\u001b[43m}\u001b[49m\u001b[43m)\u001b[49m[\u001b[38;5;124m\"\u001b[39m\u001b[38;5;124mvalue\u001b[39m\u001b[38;5;124m\"\u001b[39m]\n",
      "File \u001b[1;32m~\\anaconda3\\lib\\site-packages\\selenium\\webdriver\\remote\\webdriver.py:347\u001b[0m, in \u001b[0;36mWebDriver.execute\u001b[1;34m(self, driver_command, params)\u001b[0m\n\u001b[0;32m    345\u001b[0m response \u001b[38;5;241m=\u001b[39m \u001b[38;5;28mself\u001b[39m\u001b[38;5;241m.\u001b[39mcommand_executor\u001b[38;5;241m.\u001b[39mexecute(driver_command, params)\n\u001b[0;32m    346\u001b[0m \u001b[38;5;28;01mif\u001b[39;00m response:\n\u001b[1;32m--> 347\u001b[0m     \u001b[38;5;28;43mself\u001b[39;49m\u001b[38;5;241;43m.\u001b[39;49m\u001b[43merror_handler\u001b[49m\u001b[38;5;241;43m.\u001b[39;49m\u001b[43mcheck_response\u001b[49m\u001b[43m(\u001b[49m\u001b[43mresponse\u001b[49m\u001b[43m)\u001b[49m\n\u001b[0;32m    348\u001b[0m     response[\u001b[38;5;124m\"\u001b[39m\u001b[38;5;124mvalue\u001b[39m\u001b[38;5;124m\"\u001b[39m] \u001b[38;5;241m=\u001b[39m \u001b[38;5;28mself\u001b[39m\u001b[38;5;241m.\u001b[39m_unwrap_value(response\u001b[38;5;241m.\u001b[39mget(\u001b[38;5;124m\"\u001b[39m\u001b[38;5;124mvalue\u001b[39m\u001b[38;5;124m\"\u001b[39m, \u001b[38;5;28;01mNone\u001b[39;00m))\n\u001b[0;32m    349\u001b[0m     \u001b[38;5;28;01mreturn\u001b[39;00m response\n",
      "File \u001b[1;32m~\\anaconda3\\lib\\site-packages\\selenium\\webdriver\\remote\\errorhandler.py:229\u001b[0m, in \u001b[0;36mErrorHandler.check_response\u001b[1;34m(self, response)\u001b[0m\n\u001b[0;32m    227\u001b[0m         alert_text \u001b[38;5;241m=\u001b[39m value[\u001b[38;5;124m\"\u001b[39m\u001b[38;5;124malert\u001b[39m\u001b[38;5;124m\"\u001b[39m]\u001b[38;5;241m.\u001b[39mget(\u001b[38;5;124m\"\u001b[39m\u001b[38;5;124mtext\u001b[39m\u001b[38;5;124m\"\u001b[39m)\n\u001b[0;32m    228\u001b[0m     \u001b[38;5;28;01mraise\u001b[39;00m exception_class(message, screen, stacktrace, alert_text)  \u001b[38;5;66;03m# type: ignore[call-arg]  # mypy is not smart enough here\u001b[39;00m\n\u001b[1;32m--> 229\u001b[0m \u001b[38;5;28;01mraise\u001b[39;00m exception_class(message, screen, stacktrace)\n",
      "\u001b[1;31mNoSuchElementException\u001b[0m: Message: no such element: Unable to locate element: {\"method\":\"css selector\",\"selector\":\".cls_toggle_search searchWrap ml-30 mt-10\"}\n  (Session info: chrome=121.0.6167.161); For documentation on this error, please visit: https://www.selenium.dev/documentation/webdriver/troubleshooting/errors#no-such-element-exception\nStacktrace:\n\tGetHandleVerifier [0x00007FF6D1055E42+3538674]\n\t(No symbol) [0x00007FF6D0C74C02]\n\t(No symbol) [0x00007FF6D0B25AEB]\n\t(No symbol) [0x00007FF6D0B6BF4E]\n\t(No symbol) [0x00007FF6D0B6C0CC]\n\t(No symbol) [0x00007FF6D0BAE477]\n\t(No symbol) [0x00007FF6D0B8F0EF]\n\t(No symbol) [0x00007FF6D0BABDE3]\n\t(No symbol) [0x00007FF6D0B8EE53]\n\t(No symbol) [0x00007FF6D0B5F514]\n\t(No symbol) [0x00007FF6D0B60631]\n\tGetHandleVerifier [0x00007FF6D1086CAD+3738973]\n\tGetHandleVerifier [0x00007FF6D10DC506+4089270]\n\tGetHandleVerifier [0x00007FF6D10D4823+4057299]\n\tGetHandleVerifier [0x00007FF6D0DA5C49+720121]\n\t(No symbol) [0x00007FF6D0C8126F]\n\t(No symbol) [0x00007FF6D0C7C304]\n\t(No symbol) [0x00007FF6D0C7C432]\n\t(No symbol) [0x00007FF6D0C6BD04]\n\tBaseThreadInitThunk [0x00007FFECDC7257D+29]\n\tRtlUserThreadStart [0x00007FFECEFCAA58+40]\n"
     ]
    }
   ],
   "source": [
    "time.sleep(2)\n",
    "\n",
    "Click=driver.find_element(By.CLASS_NAME,\"cls_toggle_search searchWrap ml-30 mt-10\")\n",
    "\n",
    "Click.click()"
   ]
  },
  {
   "cell_type": "code",
   "execution_count": 4,
   "id": "6d9de2dc",
   "metadata": {},
   "outputs": [
    {
     "ename": "NoSuchElementException",
     "evalue": "Message: no such element: Unable to locate element: {\"method\":\"css selector\",\"selector\":\".form-control  \"}\n  (Session info: chrome=121.0.6167.161); For documentation on this error, please visit: https://www.selenium.dev/documentation/webdriver/troubleshooting/errors#no-such-element-exception\nStacktrace:\n\tGetHandleVerifier [0x00007FF6D1055E42+3538674]\n\t(No symbol) [0x00007FF6D0C74C02]\n\t(No symbol) [0x00007FF6D0B25AEB]\n\t(No symbol) [0x00007FF6D0B6BF4E]\n\t(No symbol) [0x00007FF6D0B6C0CC]\n\t(No symbol) [0x00007FF6D0BAE477]\n\t(No symbol) [0x00007FF6D0B8F0EF]\n\t(No symbol) [0x00007FF6D0BABDE3]\n\t(No symbol) [0x00007FF6D0B8EE53]\n\t(No symbol) [0x00007FF6D0B5F514]\n\t(No symbol) [0x00007FF6D0B60631]\n\tGetHandleVerifier [0x00007FF6D1086CAD+3738973]\n\tGetHandleVerifier [0x00007FF6D10DC506+4089270]\n\tGetHandleVerifier [0x00007FF6D10D4823+4057299]\n\tGetHandleVerifier [0x00007FF6D0DA5C49+720121]\n\t(No symbol) [0x00007FF6D0C8126F]\n\t(No symbol) [0x00007FF6D0C7C304]\n\t(No symbol) [0x00007FF6D0C7C432]\n\t(No symbol) [0x00007FF6D0C6BD04]\n\tBaseThreadInitThunk [0x00007FFECDC7257D+29]\n\tRtlUserThreadStart [0x00007FFECEFCAA58+40]\n",
     "output_type": "error",
     "traceback": [
      "\u001b[1;31m---------------------------------------------------------------------------\u001b[0m",
      "\u001b[1;31mNoSuchElementException\u001b[0m                    Traceback (most recent call last)",
      "Cell \u001b[1;32mIn[4], line 2\u001b[0m\n\u001b[0;32m      1\u001b[0m \u001b[38;5;66;03m#Que-1\u001b[39;00m\n\u001b[1;32m----> 2\u001b[0m Job_Title\u001b[38;5;241m=\u001b[39m\u001b[43mdriver\u001b[49m\u001b[38;5;241;43m.\u001b[39;49m\u001b[43mfind_element\u001b[49m\u001b[43m(\u001b[49m\u001b[43mBy\u001b[49m\u001b[38;5;241;43m.\u001b[39;49m\u001b[43mCLASS_NAME\u001b[49m\u001b[43m,\u001b[49m\u001b[38;5;124;43m\"\u001b[39;49m\u001b[38;5;124;43mform-control  \u001b[39;49m\u001b[38;5;124;43m\"\u001b[39;49m\u001b[43m)\u001b[49m\n\u001b[0;32m      3\u001b[0m Job_Title\u001b[38;5;241m.\u001b[39msend_keys(\u001b[38;5;124m'\u001b[39m\u001b[38;5;124mData Analyst\u001b[39m\u001b[38;5;124m'\u001b[39m)\n\u001b[0;32m      4\u001b[0m Location\u001b[38;5;241m=\u001b[39mdriver\u001b[38;5;241m.\u001b[39mfind_element(By\u001b[38;5;241m.\u001b[39mCLASS_NAME,\u001b[38;5;124m\"\u001b[39m\u001b[38;5;124mform-control  \u001b[39m\u001b[38;5;124m\"\u001b[39m)\n",
      "File \u001b[1;32m~\\anaconda3\\lib\\site-packages\\selenium\\webdriver\\remote\\webdriver.py:741\u001b[0m, in \u001b[0;36mWebDriver.find_element\u001b[1;34m(self, by, value)\u001b[0m\n\u001b[0;32m    738\u001b[0m     by \u001b[38;5;241m=\u001b[39m By\u001b[38;5;241m.\u001b[39mCSS_SELECTOR\n\u001b[0;32m    739\u001b[0m     value \u001b[38;5;241m=\u001b[39m \u001b[38;5;124mf\u001b[39m\u001b[38;5;124m'\u001b[39m\u001b[38;5;124m[name=\u001b[39m\u001b[38;5;124m\"\u001b[39m\u001b[38;5;132;01m{\u001b[39;00mvalue\u001b[38;5;132;01m}\u001b[39;00m\u001b[38;5;124m\"\u001b[39m\u001b[38;5;124m]\u001b[39m\u001b[38;5;124m'\u001b[39m\n\u001b[1;32m--> 741\u001b[0m \u001b[38;5;28;01mreturn\u001b[39;00m \u001b[38;5;28;43mself\u001b[39;49m\u001b[38;5;241;43m.\u001b[39;49m\u001b[43mexecute\u001b[49m\u001b[43m(\u001b[49m\u001b[43mCommand\u001b[49m\u001b[38;5;241;43m.\u001b[39;49m\u001b[43mFIND_ELEMENT\u001b[49m\u001b[43m,\u001b[49m\u001b[43m \u001b[49m\u001b[43m{\u001b[49m\u001b[38;5;124;43m\"\u001b[39;49m\u001b[38;5;124;43musing\u001b[39;49m\u001b[38;5;124;43m\"\u001b[39;49m\u001b[43m:\u001b[49m\u001b[43m \u001b[49m\u001b[43mby\u001b[49m\u001b[43m,\u001b[49m\u001b[43m \u001b[49m\u001b[38;5;124;43m\"\u001b[39;49m\u001b[38;5;124;43mvalue\u001b[39;49m\u001b[38;5;124;43m\"\u001b[39;49m\u001b[43m:\u001b[49m\u001b[43m \u001b[49m\u001b[43mvalue\u001b[49m\u001b[43m}\u001b[49m\u001b[43m)\u001b[49m[\u001b[38;5;124m\"\u001b[39m\u001b[38;5;124mvalue\u001b[39m\u001b[38;5;124m\"\u001b[39m]\n",
      "File \u001b[1;32m~\\anaconda3\\lib\\site-packages\\selenium\\webdriver\\remote\\webdriver.py:347\u001b[0m, in \u001b[0;36mWebDriver.execute\u001b[1;34m(self, driver_command, params)\u001b[0m\n\u001b[0;32m    345\u001b[0m response \u001b[38;5;241m=\u001b[39m \u001b[38;5;28mself\u001b[39m\u001b[38;5;241m.\u001b[39mcommand_executor\u001b[38;5;241m.\u001b[39mexecute(driver_command, params)\n\u001b[0;32m    346\u001b[0m \u001b[38;5;28;01mif\u001b[39;00m response:\n\u001b[1;32m--> 347\u001b[0m     \u001b[38;5;28;43mself\u001b[39;49m\u001b[38;5;241;43m.\u001b[39;49m\u001b[43merror_handler\u001b[49m\u001b[38;5;241;43m.\u001b[39;49m\u001b[43mcheck_response\u001b[49m\u001b[43m(\u001b[49m\u001b[43mresponse\u001b[49m\u001b[43m)\u001b[49m\n\u001b[0;32m    348\u001b[0m     response[\u001b[38;5;124m\"\u001b[39m\u001b[38;5;124mvalue\u001b[39m\u001b[38;5;124m\"\u001b[39m] \u001b[38;5;241m=\u001b[39m \u001b[38;5;28mself\u001b[39m\u001b[38;5;241m.\u001b[39m_unwrap_value(response\u001b[38;5;241m.\u001b[39mget(\u001b[38;5;124m\"\u001b[39m\u001b[38;5;124mvalue\u001b[39m\u001b[38;5;124m\"\u001b[39m, \u001b[38;5;28;01mNone\u001b[39;00m))\n\u001b[0;32m    349\u001b[0m     \u001b[38;5;28;01mreturn\u001b[39;00m response\n",
      "File \u001b[1;32m~\\anaconda3\\lib\\site-packages\\selenium\\webdriver\\remote\\errorhandler.py:229\u001b[0m, in \u001b[0;36mErrorHandler.check_response\u001b[1;34m(self, response)\u001b[0m\n\u001b[0;32m    227\u001b[0m         alert_text \u001b[38;5;241m=\u001b[39m value[\u001b[38;5;124m\"\u001b[39m\u001b[38;5;124malert\u001b[39m\u001b[38;5;124m\"\u001b[39m]\u001b[38;5;241m.\u001b[39mget(\u001b[38;5;124m\"\u001b[39m\u001b[38;5;124mtext\u001b[39m\u001b[38;5;124m\"\u001b[39m)\n\u001b[0;32m    228\u001b[0m     \u001b[38;5;28;01mraise\u001b[39;00m exception_class(message, screen, stacktrace, alert_text)  \u001b[38;5;66;03m# type: ignore[call-arg]  # mypy is not smart enough here\u001b[39;00m\n\u001b[1;32m--> 229\u001b[0m \u001b[38;5;28;01mraise\u001b[39;00m exception_class(message, screen, stacktrace)\n",
      "\u001b[1;31mNoSuchElementException\u001b[0m: Message: no such element: Unable to locate element: {\"method\":\"css selector\",\"selector\":\".form-control  \"}\n  (Session info: chrome=121.0.6167.161); For documentation on this error, please visit: https://www.selenium.dev/documentation/webdriver/troubleshooting/errors#no-such-element-exception\nStacktrace:\n\tGetHandleVerifier [0x00007FF6D1055E42+3538674]\n\t(No symbol) [0x00007FF6D0C74C02]\n\t(No symbol) [0x00007FF6D0B25AEB]\n\t(No symbol) [0x00007FF6D0B6BF4E]\n\t(No symbol) [0x00007FF6D0B6C0CC]\n\t(No symbol) [0x00007FF6D0BAE477]\n\t(No symbol) [0x00007FF6D0B8F0EF]\n\t(No symbol) [0x00007FF6D0BABDE3]\n\t(No symbol) [0x00007FF6D0B8EE53]\n\t(No symbol) [0x00007FF6D0B5F514]\n\t(No symbol) [0x00007FF6D0B60631]\n\tGetHandleVerifier [0x00007FF6D1086CAD+3738973]\n\tGetHandleVerifier [0x00007FF6D10DC506+4089270]\n\tGetHandleVerifier [0x00007FF6D10D4823+4057299]\n\tGetHandleVerifier [0x00007FF6D0DA5C49+720121]\n\t(No symbol) [0x00007FF6D0C8126F]\n\t(No symbol) [0x00007FF6D0C7C304]\n\t(No symbol) [0x00007FF6D0C7C432]\n\t(No symbol) [0x00007FF6D0C6BD04]\n\tBaseThreadInitThunk [0x00007FFECDC7257D+29]\n\tRtlUserThreadStart [0x00007FFECEFCAA58+40]\n"
     ]
    }
   ],
   "source": [
    "#Que-1\n",
    "Job_Title=driver.find_element(By.CLASS_NAME,\"form-control  \")\n",
    "Job_Title.send_keys('Data Analyst')\n",
    "Location=driver.find_element(By.CLASS_NAME,\"form-control  \")\n",
    "Location.send_keys('Bangalore')\n",
    "Search_Jobs=driver.find_element(By.CLASS_NAME,\" btn btn-secondary undefined\")\n",
    "Search_Jobs.click()\n"
   ]
  },
  {
   "cell_type": "code",
   "execution_count": 35,
   "id": "8aeb627c",
   "metadata": {},
   "outputs": [],
   "source": [
    "Job_Title=driver.find_element(By.ID,\"id_q\")\n",
    "Job_Title.send_keys('Data Analyst')"
   ]
  },
  {
   "cell_type": "code",
   "execution_count": null,
   "id": "9ab033c4",
   "metadata": {},
   "outputs": [],
   "source": [
    "Job_Title=driver.find_element(By.ID,\"id_q\")\n",
    "Job_Title.send_keys('Data Analyst')\n",
    "Location=driver.find_element(By.ID,\"id_loc\")\n",
    "Location.send_keys('Bangalore')\n",
    "Search_Jobs=driver.find_element(By.CLASS_NAME,\"searchForm_btnWrap_advance__VYBHN\")\n",
    "Search_Jobs.click()"
   ]
  },
  {
   "cell_type": "code",
   "execution_count": 36,
   "id": "2fe666f7",
   "metadata": {},
   "outputs": [],
   "source": [
    "Location=driver.find_element(By.ID,\"id_loc\")\n",
    "Location.send_keys('Bangalore')"
   ]
  },
  {
   "cell_type": "code",
   "execution_count": 40,
   "id": "4d0f399a",
   "metadata": {},
   "outputs": [],
   "source": [
    "Search_Jobs=driver.find_element(By.CLASS_NAME,\"searchForm_btnWrap_advance__VYBHN\")\n",
    "Search_Jobs.click()"
   ]
  },
  {
   "cell_type": "code",
   "execution_count": 10,
   "id": "ef686db7",
   "metadata": {},
   "outputs": [],
   "source": [
    "Designation=[]\n",
    "Locations=[]"
   ]
  },
  {
   "cell_type": "code",
   "execution_count": 11,
   "id": "6efbd5fb",
   "metadata": {},
   "outputs": [
    {
     "name": "stdout",
     "output_type": "stream",
     "text": [
      "10 10\n"
     ]
    }
   ],
   "source": [
    "Designation=[]\n",
    "Locations=[]\n",
    "\n",
    "titles=driver.find_elements(By.XPATH,'//h2[@itemprop=\"name\"]')\n",
    "for i in titles[0:10]:\n",
    "    title=i.text\n",
    "    Designation.append(title)\n",
    "location=driver.find_elements(By.XPATH,'//div[@class=\" jobCard_jobCard_lists_item__YxRkV jobCard_locationIcon__zrWt2\"]')\n",
    "for i in location[0:10]:\n",
    "    locate=i.text\n",
    "    Locations.append(locate)\n",
    "    \n",
    "print(len(Designation),len(Locations))"
   ]
  },
  {
   "cell_type": "code",
   "execution_count": 12,
   "id": "4418cb93",
   "metadata": {},
   "outputs": [
    {
     "data": {
      "text/html": [
       "<div>\n",
       "<style scoped>\n",
       "    .dataframe tbody tr th:only-of-type {\n",
       "        vertical-align: middle;\n",
       "    }\n",
       "\n",
       "    .dataframe tbody tr th {\n",
       "        vertical-align: top;\n",
       "    }\n",
       "\n",
       "    .dataframe thead th {\n",
       "        text-align: right;\n",
       "    }\n",
       "</style>\n",
       "<table border=\"1\" class=\"dataframe\">\n",
       "  <thead>\n",
       "    <tr style=\"text-align: right;\">\n",
       "      <th></th>\n",
       "      <th>Job_Title,Skill</th>\n",
       "      <th>Location</th>\n",
       "    </tr>\n",
       "  </thead>\n",
       "  <tbody>\n",
       "    <tr>\n",
       "      <th>0</th>\n",
       "      <td>Lead Data Analyst</td>\n",
       "      <td>Bangalore</td>\n",
       "    </tr>\n",
       "    <tr>\n",
       "      <th>1</th>\n",
       "      <td>Data Analyst</td>\n",
       "      <td>Bangalore\\n+3</td>\n",
       "    </tr>\n",
       "    <tr>\n",
       "      <th>2</th>\n",
       "      <td>Vacancy For Data Analyst</td>\n",
       "      <td>Bangalore\\n+14</td>\n",
       "    </tr>\n",
       "    <tr>\n",
       "      <th>3</th>\n",
       "      <td>Clinical Data Analyst</td>\n",
       "      <td>Bangalore\\n+6</td>\n",
       "    </tr>\n",
       "    <tr>\n",
       "      <th>4</th>\n",
       "      <td>Data Management</td>\n",
       "      <td>Bangalore\\n+18</td>\n",
       "    </tr>\n",
       "    <tr>\n",
       "      <th>5</th>\n",
       "      <td>Data Modeler data</td>\n",
       "      <td>Bangalore</td>\n",
       "    </tr>\n",
       "    <tr>\n",
       "      <th>6</th>\n",
       "      <td>Data Modeller</td>\n",
       "      <td>Bangalore</td>\n",
       "    </tr>\n",
       "    <tr>\n",
       "      <th>7</th>\n",
       "      <td>Data Modeler Bangalore</td>\n",
       "      <td>Bangalore</td>\n",
       "    </tr>\n",
       "    <tr>\n",
       "      <th>8</th>\n",
       "      <td>Data Modeler</td>\n",
       "      <td>Bangalore</td>\n",
       "    </tr>\n",
       "    <tr>\n",
       "      <th>9</th>\n",
       "      <td>Clinical Data Analyst</td>\n",
       "      <td>Bangalore\\n+4</td>\n",
       "    </tr>\n",
       "  </tbody>\n",
       "</table>\n",
       "</div>"
      ],
      "text/plain": [
       "            Job_Title,Skill        Location\n",
       "0         Lead Data Analyst       Bangalore\n",
       "1              Data Analyst   Bangalore\\n+3\n",
       "2  Vacancy For Data Analyst  Bangalore\\n+14\n",
       "3     Clinical Data Analyst   Bangalore\\n+6\n",
       "4           Data Management  Bangalore\\n+18\n",
       "5         Data Modeler data       Bangalore\n",
       "6             Data Modeller       Bangalore\n",
       "7    Data Modeler Bangalore       Bangalore\n",
       "8              Data Modeler       Bangalore\n",
       "9     Clinical Data Analyst   Bangalore\\n+4"
      ]
     },
     "execution_count": 12,
     "metadata": {},
     "output_type": "execute_result"
    }
   ],
   "source": [
    "df=pd.DataFrame({'Job_Title,Skill':Designation,'Location':Locations})\n",
    "df"
   ]
  },
  {
   "cell_type": "code",
   "execution_count": 51,
   "id": "efb4bbd2",
   "metadata": {},
   "outputs": [],
   "source": [
    "you=[]"
   ]
  },
  {
   "cell_type": "code",
   "execution_count": null,
   "id": "61ecf300",
   "metadata": {},
   "outputs": [],
   "source": [
    "locati=driver.find_elements(By.XPATH,'//div[@class=\" jobCard_jobCard_lists_item__YxRkV jobCard_locationIcon__zrWt2\"]')\n",
    "for i in locati[0:10]:\n",
    "    locae=i.text\n",
    "   you.append(locae)"
   ]
  },
  {
   "cell_type": "code",
   "execution_count": 59,
   "id": "973e66e1",
   "metadata": {},
   "outputs": [],
   "source": [
    "location=driver.find_elements(By.XPATH,'//div[@class=\" jobCard_jobCard_lists_item__YxRkV jobCard_locationIcon__zrWt2\"]/div/div')\n",
    "for i in location[0:10]:\n",
    "    locate=i.text\n",
    "    Hori.append(locate)"
   ]
  },
  {
   "cell_type": "code",
   "execution_count": 61,
   "id": "1f7d0ffd",
   "metadata": {},
   "outputs": [],
   "source": [
    "Hori=[]"
   ]
  },
  {
   "cell_type": "code",
   "execution_count": 60,
   "id": "1e145b46",
   "metadata": {},
   "outputs": [
    {
     "data": {
      "text/plain": [
       "['', '', '', '', '', '', '', '', '', '']"
      ]
     },
     "execution_count": 60,
     "metadata": {},
     "output_type": "execute_result"
    }
   ],
   "source": [
    "Hori"
   ]
  },
  {
   "cell_type": "code",
   "execution_count": null,
   "id": "34cbd610",
   "metadata": {},
   "outputs": [],
   "source": []
  },
  {
   "cell_type": "code",
   "execution_count": null,
   "id": "ff9e034f",
   "metadata": {},
   "outputs": [],
   "source": []
  },
  {
   "cell_type": "code",
   "execution_count": null,
   "id": "0ad6e6cb",
   "metadata": {},
   "outputs": [],
   "source": []
  },
  {
   "cell_type": "code",
   "execution_count": null,
   "id": "72c65d78",
   "metadata": {},
   "outputs": [],
   "source": []
  },
  {
   "cell_type": "code",
   "execution_count": null,
   "id": "7976c20d",
   "metadata": {},
   "outputs": [],
   "source": []
  },
  {
   "cell_type": "code",
   "execution_count": 33,
   "id": "0cd642b1",
   "metadata": {},
   "outputs": [
    {
     "ename": "NoSuchElementException",
     "evalue": "Message: no such element: Unable to locate element: {\"method\":\"css selector\",\"selector\":\"[id=\"autocomplete\"]\"}\n  (Session info: chrome=121.0.6167.161); For documentation on this error, please visit: https://www.selenium.dev/documentation/webdriver/troubleshooting/errors#no-such-element-exception\nStacktrace:\n\tGetHandleVerifier [0x00007FF6ADC75E42+3538674]\n\t(No symbol) [0x00007FF6AD894C02]\n\t(No symbol) [0x00007FF6AD745AEB]\n\t(No symbol) [0x00007FF6AD78BF4E]\n\t(No symbol) [0x00007FF6AD78C0CC]\n\t(No symbol) [0x00007FF6AD7CE477]\n\t(No symbol) [0x00007FF6AD7AF0EF]\n\t(No symbol) [0x00007FF6AD7CBDE3]\n\t(No symbol) [0x00007FF6AD7AEE53]\n\t(No symbol) [0x00007FF6AD77F514]\n\t(No symbol) [0x00007FF6AD780631]\n\tGetHandleVerifier [0x00007FF6ADCA6CAD+3738973]\n\tGetHandleVerifier [0x00007FF6ADCFC506+4089270]\n\tGetHandleVerifier [0x00007FF6ADCF4823+4057299]\n\tGetHandleVerifier [0x00007FF6AD9C5C49+720121]\n\t(No symbol) [0x00007FF6AD8A126F]\n\t(No symbol) [0x00007FF6AD89C304]\n\t(No symbol) [0x00007FF6AD89C432]\n\t(No symbol) [0x00007FF6AD88BD04]\n\tBaseThreadInitThunk [0x00007FFECDC7257D+29]\n\tRtlUserThreadStart [0x00007FFECEFCAA58+40]\n",
     "output_type": "error",
     "traceback": [
      "\u001b[1;31m---------------------------------------------------------------------------\u001b[0m",
      "\u001b[1;31mNoSuchElementException\u001b[0m                    Traceback (most recent call last)",
      "Cell \u001b[1;32mIn[33], line 1\u001b[0m\n\u001b[1;32m----> 1\u001b[0m job_title_field \u001b[38;5;241m=\u001b[39m \u001b[43mdriver\u001b[49m\u001b[38;5;241;43m.\u001b[39;49m\u001b[43mfind_element\u001b[49m\u001b[43m(\u001b[49m\u001b[43mBy\u001b[49m\u001b[38;5;241;43m.\u001b[39;49m\u001b[43mID\u001b[49m\u001b[43m,\u001b[49m\u001b[43m \u001b[49m\u001b[38;5;124;43m'\u001b[39;49m\u001b[38;5;124;43mautocomplete\u001b[39;49m\u001b[38;5;124;43m'\u001b[39;49m\u001b[43m)\u001b[49m\n\u001b[0;32m      2\u001b[0m job_title_field\u001b[38;5;241m.\u001b[39msend_keys(job_title)\n\u001b[0;32m      3\u001b[0m location_field \u001b[38;5;241m=\u001b[39m driver\u001b[38;5;241m.\u001b[39mfind_element(By\u001b[38;5;241m.\u001b[39mID, \u001b[38;5;124m'\u001b[39m\u001b[38;5;124minputLocation\u001b[39m\u001b[38;5;124m'\u001b[39m)\n",
      "File \u001b[1;32m~\\anaconda3\\lib\\site-packages\\selenium\\webdriver\\remote\\webdriver.py:741\u001b[0m, in \u001b[0;36mWebDriver.find_element\u001b[1;34m(self, by, value)\u001b[0m\n\u001b[0;32m    738\u001b[0m     by \u001b[38;5;241m=\u001b[39m By\u001b[38;5;241m.\u001b[39mCSS_SELECTOR\n\u001b[0;32m    739\u001b[0m     value \u001b[38;5;241m=\u001b[39m \u001b[38;5;124mf\u001b[39m\u001b[38;5;124m'\u001b[39m\u001b[38;5;124m[name=\u001b[39m\u001b[38;5;124m\"\u001b[39m\u001b[38;5;132;01m{\u001b[39;00mvalue\u001b[38;5;132;01m}\u001b[39;00m\u001b[38;5;124m\"\u001b[39m\u001b[38;5;124m]\u001b[39m\u001b[38;5;124m'\u001b[39m\n\u001b[1;32m--> 741\u001b[0m \u001b[38;5;28;01mreturn\u001b[39;00m \u001b[38;5;28;43mself\u001b[39;49m\u001b[38;5;241;43m.\u001b[39;49m\u001b[43mexecute\u001b[49m\u001b[43m(\u001b[49m\u001b[43mCommand\u001b[49m\u001b[38;5;241;43m.\u001b[39;49m\u001b[43mFIND_ELEMENT\u001b[49m\u001b[43m,\u001b[49m\u001b[43m \u001b[49m\u001b[43m{\u001b[49m\u001b[38;5;124;43m\"\u001b[39;49m\u001b[38;5;124;43musing\u001b[39;49m\u001b[38;5;124;43m\"\u001b[39;49m\u001b[43m:\u001b[49m\u001b[43m \u001b[49m\u001b[43mby\u001b[49m\u001b[43m,\u001b[49m\u001b[43m \u001b[49m\u001b[38;5;124;43m\"\u001b[39;49m\u001b[38;5;124;43mvalue\u001b[39;49m\u001b[38;5;124;43m\"\u001b[39;49m\u001b[43m:\u001b[49m\u001b[43m \u001b[49m\u001b[43mvalue\u001b[49m\u001b[43m}\u001b[49m\u001b[43m)\u001b[49m[\u001b[38;5;124m\"\u001b[39m\u001b[38;5;124mvalue\u001b[39m\u001b[38;5;124m\"\u001b[39m]\n",
      "File \u001b[1;32m~\\anaconda3\\lib\\site-packages\\selenium\\webdriver\\remote\\webdriver.py:347\u001b[0m, in \u001b[0;36mWebDriver.execute\u001b[1;34m(self, driver_command, params)\u001b[0m\n\u001b[0;32m    345\u001b[0m response \u001b[38;5;241m=\u001b[39m \u001b[38;5;28mself\u001b[39m\u001b[38;5;241m.\u001b[39mcommand_executor\u001b[38;5;241m.\u001b[39mexecute(driver_command, params)\n\u001b[0;32m    346\u001b[0m \u001b[38;5;28;01mif\u001b[39;00m response:\n\u001b[1;32m--> 347\u001b[0m     \u001b[38;5;28;43mself\u001b[39;49m\u001b[38;5;241;43m.\u001b[39;49m\u001b[43merror_handler\u001b[49m\u001b[38;5;241;43m.\u001b[39;49m\u001b[43mcheck_response\u001b[49m\u001b[43m(\u001b[49m\u001b[43mresponse\u001b[49m\u001b[43m)\u001b[49m\n\u001b[0;32m    348\u001b[0m     response[\u001b[38;5;124m\"\u001b[39m\u001b[38;5;124mvalue\u001b[39m\u001b[38;5;124m\"\u001b[39m] \u001b[38;5;241m=\u001b[39m \u001b[38;5;28mself\u001b[39m\u001b[38;5;241m.\u001b[39m_unwrap_value(response\u001b[38;5;241m.\u001b[39mget(\u001b[38;5;124m\"\u001b[39m\u001b[38;5;124mvalue\u001b[39m\u001b[38;5;124m\"\u001b[39m, \u001b[38;5;28;01mNone\u001b[39;00m))\n\u001b[0;32m    349\u001b[0m     \u001b[38;5;28;01mreturn\u001b[39;00m response\n",
      "File \u001b[1;32m~\\anaconda3\\lib\\site-packages\\selenium\\webdriver\\remote\\errorhandler.py:229\u001b[0m, in \u001b[0;36mErrorHandler.check_response\u001b[1;34m(self, response)\u001b[0m\n\u001b[0;32m    227\u001b[0m         alert_text \u001b[38;5;241m=\u001b[39m value[\u001b[38;5;124m\"\u001b[39m\u001b[38;5;124malert\u001b[39m\u001b[38;5;124m\"\u001b[39m]\u001b[38;5;241m.\u001b[39mget(\u001b[38;5;124m\"\u001b[39m\u001b[38;5;124mtext\u001b[39m\u001b[38;5;124m\"\u001b[39m)\n\u001b[0;32m    228\u001b[0m     \u001b[38;5;28;01mraise\u001b[39;00m exception_class(message, screen, stacktrace, alert_text)  \u001b[38;5;66;03m# type: ignore[call-arg]  # mypy is not smart enough here\u001b[39;00m\n\u001b[1;32m--> 229\u001b[0m \u001b[38;5;28;01mraise\u001b[39;00m exception_class(message, screen, stacktrace)\n",
      "\u001b[1;31mNoSuchElementException\u001b[0m: Message: no such element: Unable to locate element: {\"method\":\"css selector\",\"selector\":\"[id=\"autocomplete\"]\"}\n  (Session info: chrome=121.0.6167.161); For documentation on this error, please visit: https://www.selenium.dev/documentation/webdriver/troubleshooting/errors#no-such-element-exception\nStacktrace:\n\tGetHandleVerifier [0x00007FF6ADC75E42+3538674]\n\t(No symbol) [0x00007FF6AD894C02]\n\t(No symbol) [0x00007FF6AD745AEB]\n\t(No symbol) [0x00007FF6AD78BF4E]\n\t(No symbol) [0x00007FF6AD78C0CC]\n\t(No symbol) [0x00007FF6AD7CE477]\n\t(No symbol) [0x00007FF6AD7AF0EF]\n\t(No symbol) [0x00007FF6AD7CBDE3]\n\t(No symbol) [0x00007FF6AD7AEE53]\n\t(No symbol) [0x00007FF6AD77F514]\n\t(No symbol) [0x00007FF6AD780631]\n\tGetHandleVerifier [0x00007FF6ADCA6CAD+3738973]\n\tGetHandleVerifier [0x00007FF6ADCFC506+4089270]\n\tGetHandleVerifier [0x00007FF6ADCF4823+4057299]\n\tGetHandleVerifier [0x00007FF6AD9C5C49+720121]\n\t(No symbol) [0x00007FF6AD8A126F]\n\t(No symbol) [0x00007FF6AD89C304]\n\t(No symbol) [0x00007FF6AD89C432]\n\t(No symbol) [0x00007FF6AD88BD04]\n\tBaseThreadInitThunk [0x00007FFECDC7257D+29]\n\tRtlUserThreadStart [0x00007FFECEFCAA58+40]\n"
     ]
    }
   ],
   "source": [
    "job_title_field = driver.find_element(By.ID, 'autocomplete')\n",
    "job_title_field.send_keys(job_title)\n",
    "location_field = driver.find_element(By.ID, 'inputLocation')\n",
    "location_field.send_keys(location)\n",
    "\n",
    "search_button = driver.find_element(By.ID, 'btnSearch')\n",
    "search_button.click()\n"
   ]
  },
  {
   "cell_type": "code",
   "execution_count": null,
   "id": "d4d535bc",
   "metadata": {},
   "outputs": [],
   "source": []
  },
  {
   "cell_type": "code",
   "execution_count": null,
   "id": "08a9e5af",
   "metadata": {},
   "outputs": [],
   "source": []
  },
  {
   "cell_type": "code",
   "execution_count": null,
   "id": "7f0bcc4f",
   "metadata": {},
   "outputs": [],
   "source": []
  },
  {
   "cell_type": "code",
   "execution_count": null,
   "id": "acae5431",
   "metadata": {},
   "outputs": [],
   "source": []
  },
  {
   "cell_type": "code",
   "execution_count": null,
   "id": "579752e9",
   "metadata": {},
   "outputs": [],
   "source": []
  },
  {
   "cell_type": "code",
   "execution_count": null,
   "id": "2b54a0f2",
   "metadata": {},
   "outputs": [],
   "source": []
  },
  {
   "cell_type": "code",
   "execution_count": 34,
   "id": "a5d416a7",
   "metadata": {},
   "outputs": [
    {
     "ename": "TypeError",
     "evalue": "WebDriver.__init__() got an unexpected keyword argument 'executable_path'",
     "output_type": "error",
     "traceback": [
      "\u001b[1;31m---------------------------------------------------------------------------\u001b[0m",
      "\u001b[1;31mTypeError\u001b[0m                                 Traceback (most recent call last)",
      "Cell \u001b[1;32mIn[34], line 58\u001b[0m\n\u001b[0;32m     55\u001b[0m location \u001b[38;5;241m=\u001b[39m \u001b[38;5;124m\"\u001b[39m\u001b[38;5;124mBangalore\u001b[39m\u001b[38;5;124m\"\u001b[39m\n\u001b[0;32m     56\u001b[0m num_jobs \u001b[38;5;241m=\u001b[39m \u001b[38;5;241m10\u001b[39m\n\u001b[1;32m---> 58\u001b[0m job_data_df \u001b[38;5;241m=\u001b[39m \u001b[43mscrape_shine_data_selenium\u001b[49m\u001b[43m(\u001b[49m\u001b[43mjob_title\u001b[49m\u001b[43m,\u001b[49m\u001b[43m \u001b[49m\u001b[43mlocation\u001b[49m\u001b[43m,\u001b[49m\u001b[43m \u001b[49m\u001b[43mnum_jobs\u001b[49m\u001b[43m)\u001b[49m\n\u001b[0;32m     60\u001b[0m \u001b[38;5;28;01mif\u001b[39;00m \u001b[38;5;129;01mnot\u001b[39;00m job_data_df\u001b[38;5;241m.\u001b[39mempty:\n\u001b[0;32m     61\u001b[0m     \u001b[38;5;28mprint\u001b[39m(\u001b[38;5;124m\"\u001b[39m\u001b[38;5;124mScraped Data:\u001b[39m\u001b[38;5;124m\"\u001b[39m)\n",
      "Cell \u001b[1;32mIn[34], line 12\u001b[0m, in \u001b[0;36mscrape_shine_data_selenium\u001b[1;34m(job_title, location, num_jobs)\u001b[0m\n\u001b[0;32m      9\u001b[0m driver_path \u001b[38;5;241m=\u001b[39m \u001b[38;5;124m'\u001b[39m\u001b[38;5;124mpath/to/chromedriver\u001b[39m\u001b[38;5;124m'\u001b[39m\n\u001b[0;32m     11\u001b[0m \u001b[38;5;66;03m# Step 1: Launch the browser and navigate to the website\u001b[39;00m\n\u001b[1;32m---> 12\u001b[0m driver \u001b[38;5;241m=\u001b[39m \u001b[43mwebdriver\u001b[49m\u001b[38;5;241;43m.\u001b[39;49m\u001b[43mChrome\u001b[49m\u001b[43m(\u001b[49m\u001b[43mexecutable_path\u001b[49m\u001b[38;5;241;43m=\u001b[39;49m\u001b[43mdriver_path\u001b[49m\u001b[43m)\u001b[49m\n\u001b[0;32m     13\u001b[0m driver\u001b[38;5;241m.\u001b[39mget(\u001b[38;5;124m\"\u001b[39m\u001b[38;5;124mhttps://www.shine.com/\u001b[39m\u001b[38;5;124m\"\u001b[39m)\n\u001b[0;32m     15\u001b[0m \u001b[38;5;66;03m# Step 2: Enter job title and location, then click the search button\u001b[39;00m\n",
      "\u001b[1;31mTypeError\u001b[0m: WebDriver.__init__() got an unexpected keyword argument 'executable_path'"
     ]
    }
   ],
   "source": [
    "from selenium import webdriver\n",
    "from selenium.webdriver.common.keys import Keys\n",
    "from selenium.webdriver.common.by import By\n",
    "import pandas as pd\n",
    "import time\n",
    "\n",
    "def scrape_shine_data_selenium(job_title, location, num_jobs=10):\n",
    "    # Step 0: Download the appropriate webdriver for your browser (e.g., ChromeDriver) and set the path\n",
    "    driver_path = 'path/to/chromedriver'\n",
    "\n",
    "    # Step 1: Launch the browser and navigate to the website\n",
    "    driver = webdriver.Chrome(executable_path=driver_path)\n",
    "    driver.get(\"https://www.shine.com/\")\n",
    "\n",
    "    # Step 2: Enter job title and location, then click the search button\n",
    "    job_title_field = driver.find_element(By.ID, 'autocomplete')\n",
    "    job_title_field.send_keys(job_title)\n",
    "\n",
    "    location_field = driver.find_element(By.ID, 'inputLocation')\n",
    "    location_field.send_keys(location)\n",
    "\n",
    "    search_button = driver.find_element(By.ID, 'btnSearch')\n",
    "    search_button.click()\n",
    "\n",
    "    # Wait for the page to load\n",
    "    time.sleep(2)\n",
    "\n",
    "    # Step 3: Scrape data for the first 10 jobs\n",
    "    job_data = []\n",
    "    job_cards = driver.find_elements(By.CLASS_NAME, 'search_listing')\n",
    "    \n",
    "    for job_card in job_cards[:num_jobs]:\n",
    "        title = job_card.find_element(By.CLASS_NAME, 'job_title').get_attribute('title')\n",
    "        location = job_card.find_element(By.CLASS_NAME, 'result_loc').text.strip()\n",
    "        company_name = job_card.find_element(By.CLASS_NAME, 'company_name').text.strip()\n",
    "        experience_required = job_card.find_element(By.CLASS_NAME, 'exp_span').text.strip()\n",
    "\n",
    "        job_data.append({\n",
    "            'Job Title': title,\n",
    "            'Location': location,\n",
    "            'Company Name': company_name,\n",
    "            'Experience Required': experience_required\n",
    "        })\n",
    "\n",
    "    # Step 4: Create a dataframe\n",
    "    df = pd.DataFrame(job_data)\n",
    "\n",
    "    # Step 5: Close the browser\n",
    "    driver.quit()\n",
    "\n",
    "    return df\n",
    "\n",
    "if __name__ == \"__main__\":\n",
    "    job_title = \"Data Analyst\"\n",
    "    location = \"Bangalore\"\n",
    "    num_jobs = 10\n",
    "\n",
    "    job_data_df = scrape_shine_data_selenium(job_title, location, num_jobs)\n",
    "\n",
    "    if not job_data_df.empty:\n",
    "        print(\"Scraped Data:\")\n",
    "        print(job_data_df)\n"
   ]
  },
  {
   "cell_type": "markdown",
   "id": "30459cc5",
   "metadata": {},
   "source": [
    "# Que-4"
   ]
  },
  {
   "cell_type": "code",
   "execution_count": 155,
   "id": "3f80bf17",
   "metadata": {},
   "outputs": [],
   "source": [
    "driver=webdriver.Chrome()\n",
    "\n",
    "driver.get(\"https://www.flipkart.com/\")"
   ]
  },
  {
   "cell_type": "code",
   "execution_count": 158,
   "id": "12431edc",
   "metadata": {},
   "outputs": [],
   "source": [
    "#Click on Search for Products, Brands and More\n",
    "Click_bar=driver.find_element(By.CLASS_NAME,\"_2SmNnR\")\n",
    "Click_bar.click()\n",
    "\n",
    "Click_bar=driver.find_element(By.CLASS_NAME,\"Pke_EE\")\n",
    "Click_bar.send_keys('sunglasses')\n",
    "\n",
    "Click_search=driver.find_element(By.CLASS_NAME,\"_2iLD__\")\n",
    "Click_search.click()"
   ]
  },
  {
   "cell_type": "code",
   "execution_count": 159,
   "id": "9f5b0d8a",
   "metadata": {},
   "outputs": [],
   "source": [
    "Click_bar=driver.find_element(By.CLASS_NAME,\"Pke_EE\")\n",
    "Click_bar.send_keys('sunglasses')"
   ]
  },
  {
   "cell_type": "code",
   "execution_count": 160,
   "id": "b754bcec",
   "metadata": {},
   "outputs": [],
   "source": [
    "Click_search=driver.find_element(By.CLASS_NAME,\"_2iLD__\")\n",
    "Click_search.click()"
   ]
  },
  {
   "cell_type": "code",
   "execution_count": 163,
   "id": "45520530",
   "metadata": {},
   "outputs": [
    {
     "name": "stdout",
     "output_type": "stream",
     "text": [
      "120 114 120\n"
     ]
    }
   ],
   "source": [
    "#Scrapping data for first 100 sunglasses result\n",
    "Brand=[]\n",
    "Description=[]\n",
    "Price=[]\n",
    "\n",
    "start=0\n",
    "end=3\n",
    "\n",
    "for page in range(start,end):\n",
    "    \n",
    "#Scrapping Brand\n",
    "    brands=driver.find_elements(By.XPATH,'//div[@class=\"_2WkVRV\"]')\n",
    "    for i in brands:\n",
    "        brand=i.text\n",
    "        Brand.append(brand)\n",
    "    \n",
    "#Scrapping Product-Discription  \n",
    "    P_description=driver.find_elements(By.XPATH,'//a[@class=\"IRpwTa\"]')\n",
    "    for i in P_description:\n",
    "        description=i.text\n",
    "        Description.append(description)\n",
    "    \n",
    "#Scrapping Price  \n",
    "    prices=driver.find_elements(By.XPATH,'//div[@class=\"_30jeq3\"]')\n",
    "    for i in prices:\n",
    "        price=i.text\n",
    "        Price.append(pricbe)\n",
    "        \n",
    "print(len(Brand),len(Description),len(Price))"
   ]
  },
  {
   "cell_type": "code",
   "execution_count": 164,
   "id": "79772b83",
   "metadata": {},
   "outputs": [
    {
     "data": {
      "text/html": [
       "<div>\n",
       "<style scoped>\n",
       "    .dataframe tbody tr th:only-of-type {\n",
       "        vertical-align: middle;\n",
       "    }\n",
       "\n",
       "    .dataframe tbody tr th {\n",
       "        vertical-align: top;\n",
       "    }\n",
       "\n",
       "    .dataframe thead th {\n",
       "        text-align: right;\n",
       "    }\n",
       "</style>\n",
       "<table border=\"1\" class=\"dataframe\">\n",
       "  <thead>\n",
       "    <tr style=\"text-align: right;\">\n",
       "      <th></th>\n",
       "      <th>Sunglasses Brand</th>\n",
       "      <th>Product-Decription</th>\n",
       "      <th>Prices</th>\n",
       "    </tr>\n",
       "  </thead>\n",
       "  <tbody>\n",
       "    <tr>\n",
       "      <th>0</th>\n",
       "      <td>Eyenaks</td>\n",
       "      <td>UV Protection Rectangular Sunglasses (Free Size)</td>\n",
       "      <td>₹346</td>\n",
       "    </tr>\n",
       "    <tr>\n",
       "      <th>1</th>\n",
       "      <td>NuVew</td>\n",
       "      <td>UV Protection Sports, Wrap-around Sunglasses (70)</td>\n",
       "      <td>₹499</td>\n",
       "    </tr>\n",
       "    <tr>\n",
       "      <th>2</th>\n",
       "      <td>ROADWAY</td>\n",
       "      <td>UV Protection Wayfarer, Sports, Spectacle , Re...</td>\n",
       "      <td>₹129</td>\n",
       "    </tr>\n",
       "    <tr>\n",
       "      <th>3</th>\n",
       "      <td>SRPM</td>\n",
       "      <td>UV Protection Wayfarer Sunglasses (50)</td>\n",
       "      <td>₹169</td>\n",
       "    </tr>\n",
       "    <tr>\n",
       "      <th>4</th>\n",
       "      <td>ROADWAY</td>\n",
       "      <td>UV Protection Retro Square Sunglasses (Free Size)</td>\n",
       "      <td>₹169</td>\n",
       "    </tr>\n",
       "    <tr>\n",
       "      <th>...</th>\n",
       "      <td>...</td>\n",
       "      <td>...</td>\n",
       "      <td>...</td>\n",
       "    </tr>\n",
       "    <tr>\n",
       "      <th>95</th>\n",
       "      <td>Elligator</td>\n",
       "      <td>UV Protection Rectangular, Retro Square Sungla...</td>\n",
       "      <td>₹169</td>\n",
       "    </tr>\n",
       "    <tr>\n",
       "      <th>96</th>\n",
       "      <td>ROYAL SON</td>\n",
       "      <td>Polarized, UV Protection Rectangular Sunglasse...</td>\n",
       "      <td>₹594</td>\n",
       "    </tr>\n",
       "    <tr>\n",
       "      <th>97</th>\n",
       "      <td>Eyewearlabs</td>\n",
       "      <td>UV Protection Shield Sunglasses (Free Size)</td>\n",
       "      <td>₹1,999</td>\n",
       "    </tr>\n",
       "    <tr>\n",
       "      <th>98</th>\n",
       "      <td>Netwiz</td>\n",
       "      <td>UV Protection Wayfarer Sunglasses (52)</td>\n",
       "      <td>₹299</td>\n",
       "    </tr>\n",
       "    <tr>\n",
       "      <th>99</th>\n",
       "      <td>Fastrack</td>\n",
       "      <td>Gradient, UV Protection Wayfarer Sunglasses (F...</td>\n",
       "      <td>₹539</td>\n",
       "    </tr>\n",
       "  </tbody>\n",
       "</table>\n",
       "<p>100 rows × 3 columns</p>\n",
       "</div>"
      ],
      "text/plain": [
       "   Sunglasses Brand                                 Product-Decription  Prices\n",
       "0           Eyenaks   UV Protection Rectangular Sunglasses (Free Size)    ₹346\n",
       "1             NuVew  UV Protection Sports, Wrap-around Sunglasses (70)    ₹499\n",
       "2           ROADWAY  UV Protection Wayfarer, Sports, Spectacle , Re...    ₹129\n",
       "3              SRPM             UV Protection Wayfarer Sunglasses (50)    ₹169\n",
       "4           ROADWAY  UV Protection Retro Square Sunglasses (Free Size)    ₹169\n",
       "..              ...                                                ...     ...\n",
       "95        Elligator  UV Protection Rectangular, Retro Square Sungla...    ₹169\n",
       "96        ROYAL SON  Polarized, UV Protection Rectangular Sunglasse...    ₹594\n",
       "97      Eyewearlabs        UV Protection Shield Sunglasses (Free Size)  ₹1,999\n",
       "98           Netwiz             UV Protection Wayfarer Sunglasses (52)    ₹299\n",
       "99         Fastrack  Gradient, UV Protection Wayfarer Sunglasses (F...    ₹539\n",
       "\n",
       "[100 rows x 3 columns]"
      ]
     },
     "execution_count": 164,
     "metadata": {},
     "output_type": "execute_result"
    }
   ],
   "source": [
    "#Crteate DataFrame\n",
    "df=pd.DataFrame({'Sunglasses Brand':Brand[0:100],'Product-Decription':Description[0:100],'Prices':Price[0:100]})\n",
    "df"
   ]
  },
  {
   "cell_type": "code",
   "execution_count": null,
   "id": "b2ee5a79",
   "metadata": {},
   "outputs": [],
   "source": [
    "for page in range(start,end):\n",
    "    \n",
    "#Scrapping Brand\n",
    "    brands=driver.find_elements(By.XPATH,)\n",
    "    for i in brands[0:100]:\n",
    "        brand=i.text\n",
    "        Brand.append(brand)\n",
    "    \n",
    "#Scrapping Product-Discription  \n",
    "    P-description=driver.find_elements(By.XPATH,)\n",
    "    for i in P-description[0:100]:\n",
    "        description=i.text\n",
    "        Description.append(description)\n",
    "    \n",
    "#Scrapping Price  \n",
    "    prices=driver.find_elements(By.XPATH,)\n",
    "    for i in prices[0:100]:\n",
    "        price=i.text\n",
    "        Price.append(price)"
   ]
  },
  {
   "cell_type": "code",
   "execution_count": null,
   "id": "c9495f2e",
   "metadata": {},
   "outputs": [],
   "source": [
    "#Crteate DataFrame\n",
    "df=pd.DataFrame({'Job_Title,Skill':Designation,'Location':Locations,'Company-Name':Company_Name,'Experience-Required':Experience_required})\n",
    "df"
   ]
  },
  {
   "cell_type": "markdown",
   "id": "72da3f55",
   "metadata": {},
   "source": [
    "# QUE-5"
   ]
  },
  {
   "cell_type": "code",
   "execution_count": 165,
   "id": "11466d22",
   "metadata": {},
   "outputs": [],
   "source": [
    "driver=webdriver.Chrome()\n",
    "\n",
    "driver.get(\"https://www.flipkart.com/apple-iphone-11-black-64-gb/product-reviews/itm4e5041ba101fd?pid=MOBFWQ6BXGJCEYNY&lid=LSTMOBFWQ6BXGJCEYNYZXSHRJ&marketplace=FLIPKART\")"
   ]
  },
  {
   "cell_type": "code",
   "execution_count": 166,
   "id": "40e44c5b",
   "metadata": {},
   "outputs": [
    {
     "name": "stdout",
     "output_type": "stream",
     "text": [
      "100 100 100\n"
     ]
    }
   ],
   "source": [
    "#Scrapping data for first 100 review result\n",
    "Rating=[]\n",
    "Summary=[]\n",
    "Review=[]\n",
    "\n",
    "start=0\n",
    "end=10\n",
    "\n",
    "for page in range(start,end):\n",
    "    \n",
    "#Scrapping Rating\n",
    "    ratings=driver.find_elements(By.XPATH,'//div[@class=\"_3LWZlK _1BLPMq\"]')\n",
    "    for i in ratings:\n",
    "        rate=i.text\n",
    "        Rating.append(rate)\n",
    "    \n",
    "#Scrapping Summary \n",
    "    summarys=driver.find_elements(By.XPATH,'//p[@class=\"_2-N8zT\"]')\n",
    "    for i in summarys:\n",
    "        somary=i.text\n",
    "        Summary.append(somary)\n",
    "    \n",
    "#Scrapping Review \n",
    "    reviews=driver.find_elements(By.XPATH,'//div[@class=\"t-ZTKy\"]/div')\n",
    "    for i in reviews:\n",
    "        rivew=i.text\n",
    "        Review.append(rivew)\n",
    "        \n",
    "print(len(Rating),len(Summary),len(Review))"
   ]
  },
  {
   "cell_type": "code",
   "execution_count": 167,
   "id": "54998cbf",
   "metadata": {},
   "outputs": [
    {
     "data": {
      "text/html": [
       "<div>\n",
       "<style scoped>\n",
       "    .dataframe tbody tr th:only-of-type {\n",
       "        vertical-align: middle;\n",
       "    }\n",
       "\n",
       "    .dataframe tbody tr th {\n",
       "        vertical-align: top;\n",
       "    }\n",
       "\n",
       "    .dataframe thead th {\n",
       "        text-align: right;\n",
       "    }\n",
       "</style>\n",
       "<table border=\"1\" class=\"dataframe\">\n",
       "  <thead>\n",
       "    <tr style=\"text-align: right;\">\n",
       "      <th></th>\n",
       "      <th>Iphone-Rating</th>\n",
       "      <th>Review Summary</th>\n",
       "      <th>Full Review</th>\n",
       "    </tr>\n",
       "  </thead>\n",
       "  <tbody>\n",
       "    <tr>\n",
       "      <th>0</th>\n",
       "      <td>5</td>\n",
       "      <td>Perfect product!</td>\n",
       "      <td>V Good all</td>\n",
       "    </tr>\n",
       "    <tr>\n",
       "      <th>1</th>\n",
       "      <td>5</td>\n",
       "      <td>Wonderful</td>\n",
       "      <td>This is amazing at all</td>\n",
       "    </tr>\n",
       "    <tr>\n",
       "      <th>2</th>\n",
       "      <td>5</td>\n",
       "      <td>Terrific</td>\n",
       "      <td>Very very good</td>\n",
       "    </tr>\n",
       "    <tr>\n",
       "      <th>3</th>\n",
       "      <td>5</td>\n",
       "      <td>Classy product</td>\n",
       "      <td>Camera is awesome\\nBest battery backup\\nA perf...</td>\n",
       "    </tr>\n",
       "    <tr>\n",
       "      <th>4</th>\n",
       "      <td>5</td>\n",
       "      <td>Best in the market!</td>\n",
       "      <td>Good Camera</td>\n",
       "    </tr>\n",
       "    <tr>\n",
       "      <th>...</th>\n",
       "      <td>...</td>\n",
       "      <td>...</td>\n",
       "      <td>...</td>\n",
       "    </tr>\n",
       "    <tr>\n",
       "      <th>95</th>\n",
       "      <td>5</td>\n",
       "      <td>Worth every penny</td>\n",
       "      <td>Feeling awesome after getting the delivery of ...</td>\n",
       "    </tr>\n",
       "    <tr>\n",
       "      <th>96</th>\n",
       "      <td>5</td>\n",
       "      <td>Perfect product!</td>\n",
       "      <td>Photos super</td>\n",
       "    </tr>\n",
       "    <tr>\n",
       "      <th>97</th>\n",
       "      <td>5</td>\n",
       "      <td>Terrific purchase</td>\n",
       "      <td>Value for money 😍</td>\n",
       "    </tr>\n",
       "    <tr>\n",
       "      <th>98</th>\n",
       "      <td>5</td>\n",
       "      <td>Just wow!</td>\n",
       "      <td>Perfect Product!!</td>\n",
       "    </tr>\n",
       "    <tr>\n",
       "      <th>99</th>\n",
       "      <td>5</td>\n",
       "      <td>Fabulous!</td>\n",
       "      <td>Super🔥 and good performance 👌❤️</td>\n",
       "    </tr>\n",
       "  </tbody>\n",
       "</table>\n",
       "<p>100 rows × 3 columns</p>\n",
       "</div>"
      ],
      "text/plain": [
       "   Iphone-Rating       Review Summary  \\\n",
       "0              5     Perfect product!   \n",
       "1              5            Wonderful   \n",
       "2              5             Terrific   \n",
       "3              5       Classy product   \n",
       "4              5  Best in the market!   \n",
       "..           ...                  ...   \n",
       "95             5    Worth every penny   \n",
       "96             5     Perfect product!   \n",
       "97             5    Terrific purchase   \n",
       "98             5            Just wow!   \n",
       "99             5            Fabulous!   \n",
       "\n",
       "                                          Full Review  \n",
       "0                                          V Good all  \n",
       "1                              This is amazing at all  \n",
       "2                                      Very very good  \n",
       "3   Camera is awesome\\nBest battery backup\\nA perf...  \n",
       "4                                         Good Camera  \n",
       "..                                                ...  \n",
       "95  Feeling awesome after getting the delivery of ...  \n",
       "96                                       Photos super  \n",
       "97                                  Value for money 😍  \n",
       "98                                  Perfect Product!!  \n",
       "99                    Super🔥 and good performance 👌❤️  \n",
       "\n",
       "[100 rows x 3 columns]"
      ]
     },
     "execution_count": 167,
     "metadata": {},
     "output_type": "execute_result"
    }
   ],
   "source": [
    "#Crteate DataFrame\n",
    "df=pd.DataFrame({'Iphone-Rating':Rating,'Review Summary':Summary,'Full Review':Review})\n",
    "df"
   ]
  },
  {
   "cell_type": "markdown",
   "id": "8ce8f023",
   "metadata": {},
   "source": [
    "# Que-6"
   ]
  },
  {
   "cell_type": "code",
   "execution_count": 168,
   "id": "b448cb8e",
   "metadata": {},
   "outputs": [],
   "source": [
    "driver=webdriver.Chrome()\n",
    "\n",
    "driver.get(\"https://www.flipkart.com/\")"
   ]
  },
  {
   "cell_type": "code",
   "execution_count": 169,
   "id": "e4d0ccf2",
   "metadata": {},
   "outputs": [],
   "source": [
    "#Click on Search for Products, Brands and More\n",
    "Click_bar=driver.find_element(By.CLASS_NAME,\"_2SmNnR\")\n",
    "Click_bar.click()\n",
    "\n",
    "Enter_value=driver.find_element(By.CLASS_NAME,\"Pke_EE\")\n",
    "Enter_value.send_keys('sneakers')\n",
    "\n",
    "Click_search=driver.find_element(By.CLASS_NAME,\"_2iLD__\")\n",
    "Click_search.click()"
   ]
  },
  {
   "cell_type": "code",
   "execution_count": 173,
   "id": "d303693b",
   "metadata": {},
   "outputs": [
    {
     "name": "stdout",
     "output_type": "stream",
     "text": [
      "120 240 120\n"
     ]
    }
   ],
   "source": [
    "#Scrapping data for first 100 sneakers result\n",
    "Brand=[]\n",
    "Description=[]\n",
    "Price=[]\n",
    "\n",
    "start=0\n",
    "end=3\n",
    "\n",
    "for page in range(start,end):\n",
    "    \n",
    "#Scrapping Brand\n",
    "    brands=driver.find_elements(By.XPATH,'//div[@class=\"_2WkVRV\"]')\n",
    "    for i in brands:\n",
    "        brand=i.text\n",
    "        Brand.append(brand)\n",
    "    \n",
    "#Scrapping Product-Discription  \n",
    "    P_description=driver.find_elements(By.XPATH,'//div[@class=\"_2B099V\"]/a[1]')\n",
    "    for i in P_description:\n",
    "        description=i.text\n",
    "        Description.append(description)\n",
    "    \n",
    "#Scrapping Price  \n",
    "    prices=driver.find_elements(By.XPATH,'//div[@class=\"_30jeq3\"]')\n",
    "    for i in prices:\n",
    "        price=i.text\n",
    "        Price.append(price)\n",
    "        \n",
    "print(len(Brand),len(Description),len(Price))"
   ]
  },
  {
   "cell_type": "code",
   "execution_count": 174,
   "id": "5ac1384f",
   "metadata": {},
   "outputs": [
    {
     "data": {
      "text/html": [
       "<div>\n",
       "<style scoped>\n",
       "    .dataframe tbody tr th:only-of-type {\n",
       "        vertical-align: middle;\n",
       "    }\n",
       "\n",
       "    .dataframe tbody tr th {\n",
       "        vertical-align: top;\n",
       "    }\n",
       "\n",
       "    .dataframe thead th {\n",
       "        text-align: right;\n",
       "    }\n",
       "</style>\n",
       "<table border=\"1\" class=\"dataframe\">\n",
       "  <thead>\n",
       "    <tr style=\"text-align: right;\">\n",
       "      <th></th>\n",
       "      <th>Sunglasses Brand</th>\n",
       "      <th>Product-Decription</th>\n",
       "      <th>Prices</th>\n",
       "    </tr>\n",
       "  </thead>\n",
       "  <tbody>\n",
       "    <tr>\n",
       "      <th>0</th>\n",
       "      <td>VECHLO</td>\n",
       "      <td>Trendy | Sport |Fashion Sneaker | Gym | Runnin...</td>\n",
       "      <td>₹567</td>\n",
       "    </tr>\n",
       "    <tr>\n",
       "      <th>1</th>\n",
       "      <td>Peelu</td>\n",
       "      <td>₹567₹1,59964% off</td>\n",
       "      <td>₹591</td>\n",
       "    </tr>\n",
       "    <tr>\n",
       "      <th>2</th>\n",
       "      <td>Deals4you</td>\n",
       "      <td>Ultralightweight Premium Comfort Trendy Outdoo...</td>\n",
       "      <td>₹299</td>\n",
       "    </tr>\n",
       "    <tr>\n",
       "      <th>3</th>\n",
       "      <td>URBANBOX</td>\n",
       "      <td>₹591₹3,19981% off</td>\n",
       "      <td>₹299</td>\n",
       "    </tr>\n",
       "    <tr>\n",
       "      <th>4</th>\n",
       "      <td>RED TAPE</td>\n",
       "      <td>Sneakers For Women</td>\n",
       "      <td>₹1,737</td>\n",
       "    </tr>\n",
       "    <tr>\n",
       "      <th>...</th>\n",
       "      <td>...</td>\n",
       "      <td>...</td>\n",
       "      <td>...</td>\n",
       "    </tr>\n",
       "    <tr>\n",
       "      <th>95</th>\n",
       "      <td>ATOM</td>\n",
       "      <td>₹380₹2,49084% off</td>\n",
       "      <td>₹1,089</td>\n",
       "    </tr>\n",
       "    <tr>\n",
       "      <th>96</th>\n",
       "      <td>asian</td>\n",
       "      <td>Sneakers For Women</td>\n",
       "      <td>₹823</td>\n",
       "    </tr>\n",
       "    <tr>\n",
       "      <th>97</th>\n",
       "      <td>BRUTON</td>\n",
       "      <td>₹399₹84953% off</td>\n",
       "      <td>₹549</td>\n",
       "    </tr>\n",
       "    <tr>\n",
       "      <th>98</th>\n",
       "      <td>RED TAPE</td>\n",
       "      <td>Sneaker Casual Shoes for Men | Soft Cushioned ...</td>\n",
       "      <td>₹1,231</td>\n",
       "    </tr>\n",
       "    <tr>\n",
       "      <th>99</th>\n",
       "      <td>Shoe Lab</td>\n",
       "      <td>₹1,517₹6,89978% off</td>\n",
       "      <td>₹399</td>\n",
       "    </tr>\n",
       "  </tbody>\n",
       "</table>\n",
       "<p>100 rows × 3 columns</p>\n",
       "</div>"
      ],
      "text/plain": [
       "   Sunglasses Brand                                 Product-Decription  Prices\n",
       "0            VECHLO  Trendy | Sport |Fashion Sneaker | Gym | Runnin...    ₹567\n",
       "1             Peelu                                  ₹567₹1,59964% off    ₹591\n",
       "2         Deals4you  Ultralightweight Premium Comfort Trendy Outdoo...    ₹299\n",
       "3          URBANBOX                                  ₹591₹3,19981% off    ₹299\n",
       "4          RED TAPE                                 Sneakers For Women  ₹1,737\n",
       "..              ...                                                ...     ...\n",
       "95             ATOM                                  ₹380₹2,49084% off  ₹1,089\n",
       "96            asian                                 Sneakers For Women    ₹823\n",
       "97           BRUTON                                    ₹399₹84953% off    ₹549\n",
       "98         RED TAPE  Sneaker Casual Shoes for Men | Soft Cushioned ...  ₹1,231\n",
       "99         Shoe Lab                                ₹1,517₹6,89978% off    ₹399\n",
       "\n",
       "[100 rows x 3 columns]"
      ]
     },
     "execution_count": 174,
     "metadata": {},
     "output_type": "execute_result"
    }
   ],
   "source": [
    "#Crteate DataFrame\n",
    "df=pd.DataFrame({'Sunglasses Brand':Brand[0:100],'Product-Decription':Description[0:100],'Prices':Price[0:100]})\n",
    "df"
   ]
  },
  {
   "cell_type": "markdown",
   "id": "d2cddcea",
   "metadata": {},
   "source": [
    "# Que-7"
   ]
  },
  {
   "cell_type": "markdown",
   "id": "4227f884",
   "metadata": {},
   "source": [
    "# Que-8"
   ]
  },
  {
   "cell_type": "code",
   "execution_count": 175,
   "id": "19ea068f",
   "metadata": {},
   "outputs": [],
   "source": [
    "driver=webdriver.Chrome()\n",
    "\n",
    "driver.get(\"https://www.azquotes.com/\")"
   ]
  },
  {
   "cell_type": "code",
   "execution_count": 177,
   "id": "68fdffeb",
   "metadata": {},
   "outputs": [],
   "source": [
    "Click_top=driver.find_element(By.XPATH,'//*[@id=\"menu\"]/div/div[3]/ul/li[5]/a')\n",
    "Click_top.click()"
   ]
  },
  {
   "cell_type": "code",
   "execution_count": 178,
   "id": "ded05ccc",
   "metadata": {},
   "outputs": [
    {
     "name": "stdout",
     "output_type": "stream",
     "text": [
      "1000 1000 1000\n"
     ]
    }
   ],
   "source": [
    "#Scrapping data for first 1000 quotes result\n",
    "Quote=[]\n",
    "Author=[]\n",
    "Types_Quotes=[]\n",
    "\n",
    "start=0\n",
    "end=10\n",
    "\n",
    "for page in range(start,end):\n",
    "    \n",
    "#Scrapping Quote\n",
    "    quotes=driver.find_elements(By.XPATH,'//a[@class=\"title\"]')\n",
    "    for i in quotes:\n",
    "        rate=i.text\n",
    "        Quote.append(rate)\n",
    "    \n",
    "#Scrapping Author\n",
    "    authors=driver.find_elements(By.XPATH,'//div[@class=\"author\"]/a')\n",
    "    for i in authors:\n",
    "        somary=i.text\n",
    "        Author.append(somary)\n",
    "    \n",
    "#Scrapping Types of Quotes \n",
    "    quote_type=driver.find_elements(By.XPATH,'//div[@class=\"tags\"]')\n",
    "    for i in quote_type:\n",
    "        rivew=i.text\n",
    "        Types_Quotes.append(rivew)\n",
    "        \n",
    "print(len(Quote),len(Author),len(Types_Quotes))"
   ]
  },
  {
   "cell_type": "code",
   "execution_count": 180,
   "id": "c7760a50",
   "metadata": {},
   "outputs": [
    {
     "data": {
      "text/html": [
       "<div>\n",
       "<style scoped>\n",
       "    .dataframe tbody tr th:only-of-type {\n",
       "        vertical-align: middle;\n",
       "    }\n",
       "\n",
       "    .dataframe tbody tr th {\n",
       "        vertical-align: top;\n",
       "    }\n",
       "\n",
       "    .dataframe thead th {\n",
       "        text-align: right;\n",
       "    }\n",
       "</style>\n",
       "<table border=\"1\" class=\"dataframe\">\n",
       "  <thead>\n",
       "    <tr style=\"text-align: right;\">\n",
       "      <th></th>\n",
       "      <th>Quotes</th>\n",
       "      <th>Authors</th>\n",
       "      <th>Types of Quote</th>\n",
       "    </tr>\n",
       "  </thead>\n",
       "  <tbody>\n",
       "    <tr>\n",
       "      <th>0</th>\n",
       "      <td>The essence of strategy is choosing what not t...</td>\n",
       "      <td>Michael Porter</td>\n",
       "      <td>Essence, Deep Thought, Transcendentalism</td>\n",
       "    </tr>\n",
       "    <tr>\n",
       "      <th>1</th>\n",
       "      <td>One cannot and must not try to erase the past ...</td>\n",
       "      <td>Golda Meir</td>\n",
       "      <td>Inspiration, Past, Trying</td>\n",
       "    </tr>\n",
       "    <tr>\n",
       "      <th>2</th>\n",
       "      <td>Patriotism means to stand by the country. It d...</td>\n",
       "      <td>Theodore Roosevelt</td>\n",
       "      <td>Country, Peace, War</td>\n",
       "    </tr>\n",
       "    <tr>\n",
       "      <th>3</th>\n",
       "      <td>Death is something inevitable. When a man has ...</td>\n",
       "      <td>Nelson Mandela</td>\n",
       "      <td>Inspirational, Motivational, Death</td>\n",
       "    </tr>\n",
       "    <tr>\n",
       "      <th>4</th>\n",
       "      <td>You have to love a nation that celebrates its ...</td>\n",
       "      <td>Erma Bombeck</td>\n",
       "      <td>4th Of July, Food, Patriotic</td>\n",
       "    </tr>\n",
       "    <tr>\n",
       "      <th>...</th>\n",
       "      <td>...</td>\n",
       "      <td>...</td>\n",
       "      <td>...</td>\n",
       "    </tr>\n",
       "    <tr>\n",
       "      <th>995</th>\n",
       "      <td>When the going gets weird, the weird turn pro.</td>\n",
       "      <td>Hunter S. Thompson</td>\n",
       "      <td>Music, Sports, Hunting</td>\n",
       "    </tr>\n",
       "    <tr>\n",
       "      <th>996</th>\n",
       "      <td>When a train goes through a tunnel and it gets...</td>\n",
       "      <td>Corrie Ten Boom</td>\n",
       "      <td>Trust, Encouraging, Uplifting</td>\n",
       "    </tr>\n",
       "    <tr>\n",
       "      <th>997</th>\n",
       "      <td>If you think you are too small to make a diffe...</td>\n",
       "      <td>Dalai Lama</td>\n",
       "      <td>Inspirational, Funny, Change</td>\n",
       "    </tr>\n",
       "    <tr>\n",
       "      <th>998</th>\n",
       "      <td>God doesn't require us to succeed, he only req...</td>\n",
       "      <td>Mother Teresa</td>\n",
       "      <td>Success, God, Mother</td>\n",
       "    </tr>\n",
       "    <tr>\n",
       "      <th>999</th>\n",
       "      <td>Change your thoughts and you change your world.</td>\n",
       "      <td>Norman Vincent Peale</td>\n",
       "      <td>Inspirational, Motivational, Change</td>\n",
       "    </tr>\n",
       "  </tbody>\n",
       "</table>\n",
       "<p>1000 rows × 3 columns</p>\n",
       "</div>"
      ],
      "text/plain": [
       "                                                Quotes               Authors  \\\n",
       "0    The essence of strategy is choosing what not t...        Michael Porter   \n",
       "1    One cannot and must not try to erase the past ...            Golda Meir   \n",
       "2    Patriotism means to stand by the country. It d...    Theodore Roosevelt   \n",
       "3    Death is something inevitable. When a man has ...        Nelson Mandela   \n",
       "4    You have to love a nation that celebrates its ...          Erma Bombeck   \n",
       "..                                                 ...                   ...   \n",
       "995     When the going gets weird, the weird turn pro.    Hunter S. Thompson   \n",
       "996  When a train goes through a tunnel and it gets...       Corrie Ten Boom   \n",
       "997  If you think you are too small to make a diffe...            Dalai Lama   \n",
       "998  God doesn't require us to succeed, he only req...         Mother Teresa   \n",
       "999    Change your thoughts and you change your world.  Norman Vincent Peale   \n",
       "\n",
       "                               Types of Quote  \n",
       "0    Essence, Deep Thought, Transcendentalism  \n",
       "1                   Inspiration, Past, Trying  \n",
       "2                         Country, Peace, War  \n",
       "3          Inspirational, Motivational, Death  \n",
       "4                4th Of July, Food, Patriotic  \n",
       "..                                        ...  \n",
       "995                    Music, Sports, Hunting  \n",
       "996             Trust, Encouraging, Uplifting  \n",
       "997              Inspirational, Funny, Change  \n",
       "998                      Success, God, Mother  \n",
       "999       Inspirational, Motivational, Change  \n",
       "\n",
       "[1000 rows x 3 columns]"
      ]
     },
     "execution_count": 180,
     "metadata": {},
     "output_type": "execute_result"
    }
   ],
   "source": [
    "#Crteate DataFrame\n",
    "df=pd.DataFrame({'Quotes':Quote,'Authors':Author,'Types of Quote':Types_Quotes})\n",
    "df"
   ]
  },
  {
   "cell_type": "code",
   "execution_count": 181,
   "id": "7fcde8b8",
   "metadata": {},
   "outputs": [],
   "source": [
    "driver=webdriver.Chrome()\n",
    "\n",
    "driver.get(\"https://www.motor1.com/\")"
   ]
  },
  {
   "cell_type": "code",
   "execution_count": 188,
   "id": "5988f38e",
   "metadata": {},
   "outputs": [],
   "source": [
    "#enter search details\n",
    "\n",
    "Click_inp=driver.find_element(By.ID,\"search_input\")\n",
    "Click_inp.send_keys('50 most expensive cars in the world')\n",
    "\n",
    "Click=driver.find_element(By.XPATH,'/html/body/div[10]/div[2]/div/div/div[3]/div/div/div/form/button[1]')\n",
    "Click.click()"
   ]
  },
  {
   "cell_type": "code",
   "execution_count": null,
   "id": "c65cb832",
   "metadata": {},
   "outputs": [],
   "source": []
  }
 ],
 "metadata": {
  "kernelspec": {
   "display_name": "Python 3 (ipykernel)",
   "language": "python",
   "name": "python3"
  },
  "language_info": {
   "codemirror_mode": {
    "name": "ipython",
    "version": 3
   },
   "file_extension": ".py",
   "mimetype": "text/x-python",
   "name": "python",
   "nbconvert_exporter": "python",
   "pygments_lexer": "ipython3",
   "version": "3.10.9"
  }
 },
 "nbformat": 4,
 "nbformat_minor": 5
}
