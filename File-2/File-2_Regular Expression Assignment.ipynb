{
 "cells": [
  {
   "cell_type": "code",
   "execution_count": null,
   "id": "2a90dd03",
   "metadata": {},
   "outputs": [],
   "source": [
    "import pandas as pd\n",
    "import regex as re"
   ]
  },
  {
   "cell_type": "code",
   "execution_count": null,
   "id": "53b82865",
   "metadata": {},
   "outputs": [],
   "source": [
    "# Que 1\n",
    "string='Python Exercises, PHP exercises.'\n",
    "y=':'\n",
    "x=r\"[ ,.]\"\n",
    "Exp_Out=re.sub(x,y,string)\n",
    "print (Exp_Out)"
   ]
  },
  {
   "cell_type": "code",
   "execution_count": null,
   "id": "84be5c8c",
   "metadata": {},
   "outputs": [],
   "source": [
    "# Que 2\n"
   ]
  },
  {
   "cell_type": "code",
   "execution_count": null,
   "id": "8a56ac18",
   "metadata": {},
   "outputs": [],
   "source": [
    "#Que 3\n",
    "d_line=\"The ecliptic or ecliptic plane is the orbital plane of Earth around the Sun.\"\n",
    "pattern=r\"\\b\\w{4,}\\b\"\n",
    "\n",
    "re_pattern=re.compile(pattern)\n",
    "\n",
    "Exp_Out=re_pattern.findall(d_line)\n",
    "print(Exp_Out)"
   ]
  },
  {
   "cell_type": "code",
   "execution_count": null,
   "id": "8585b587",
   "metadata": {},
   "outputs": [],
   "source": [
    "#Que 4\n",
    "d_line=\"The ecliptic or ecliptic plan is the orbital plane of Earth around the Sun.\"\n",
    "pattern=r\"\\b\\w{3,5}\\b\"\n",
    "\n",
    "re_pattern=re.compile(pattern)\n",
    "\n",
    "Exp_Out=re_pattern.findall(d_line)\n",
    "print(Exp_Out)"
   ]
  },
  {
   "cell_type": "code",
   "execution_count": null,
   "id": "0d95cd75",
   "metadata": {},
   "outputs": [],
   "source": [
    "#Que 5\n",
    "data=[\"example (.com)\", \"hr@fliprobo (.com)\", \"github (.com)\", \"Hello (Data Science World)\", \"Data (Scientist)\"]\n",
    "x=r'\\(|\\)'\n",
    "compilee=re.compile(x)\n",
    "\n",
    "for i in data:\n",
    "\n",
    "    match=compilee.sub('',i)\n",
    "    print(match)"
   ]
  },
  {
   "cell_type": "code",
   "execution_count": null,
   "id": "5656ae0e",
   "metadata": {},
   "outputs": [],
   "source": [
    "#Que 6"
   ]
  },
  {
   "cell_type": "code",
   "execution_count": null,
   "id": "07d292d4",
   "metadata": {},
   "outputs": [],
   "source": [
    "#Que 7\n",
    "data=\"ImportanceOfRegularExpressionsInPython\"\n",
    "pattern=(r'[A-Z][a-z]*')\n",
    "\n",
    "re_pattern=re.compile(pattern)\n",
    "\n",
    "Exp_Out=re_pattern.findall(data)\n",
    "Exp_Out"
   ]
  },
  {
   "cell_type": "code",
   "execution_count": null,
   "id": "402f1222",
   "metadata": {},
   "outputs": [],
   "source": [
    "#Que 8\n",
    "data=\"RegularExpression1IsAn2ImportantTopic3InPython\"\n",
    "x=r'(?<=[a-zA-Z])(\\d)'\n",
    "y=r' \\1'\n",
    "\n",
    "Exp_Out=re.sub(x,y,data)\n",
    "\n",
    "Exp_Out"
   ]
  },
  {
   "cell_type": "code",
   "execution_count": null,
   "id": "2b07b730",
   "metadata": {},
   "outputs": [],
   "source": [
    "#Que 9\n",
    "\n",
    "data=\"RegularExpression1IsAn2ImportantTopic3InPython\"\n",
    "x=r\"(?<=[a-zA-Z0-9])([A-Z0-9])\"\n",
    "y=r' \\1'\n",
    "\n",
    "Exp_Out=re.sub(x,y,data)\n",
    "\n",
    "print(Exp_Out)\n",
    "#Output is different from given in question paper, because in question mention to insert spaces between words starting with capital letters or with numbers."
   ]
  },
  {
   "cell_type": "code",
   "execution_count": null,
   "id": "42c828bf",
   "metadata": {},
   "outputs": [],
   "source": [
    "#Que 10"
   ]
  },
  {
   "cell_type": "code",
   "execution_count": null,
   "id": "41870dec",
   "metadata": {},
   "outputs": [],
   "source": [
    "#Que 11\n",
    "data=\"DataScience2312_\"\n",
    "x=r'^[a-zA-Z0-9_]+$'\n",
    "\n",
    "Exp_Out=re.match(x,data)\n",
    "Exp_Out"
   ]
  },
  {
   "cell_type": "code",
   "execution_count": null,
   "id": "fb4f50f2",
   "metadata": {},
   "outputs": [],
   "source": [
    "#Que 12\n",
    "pattern=r\"^5\"\n",
    "text='5money'\n",
    "\n",
    "result=re.search(pattern,text)\n",
    "result"
   ]
  },
  {
   "cell_type": "code",
   "execution_count": null,
   "id": "dfc8ff87",
   "metadata": {},
   "outputs": [],
   "source": [
    "#Que 13\n",
    "ip=\"977.36.033.467\"\n",
    "pattern=r'\\.[0]*'\n",
    "x='.'\n",
    "\n",
    "output=re.sub(pattern,x,ip)\n",
    "output"
   ]
  },
  {
   "cell_type": "code",
   "execution_count": null,
   "id": "6f36ce9d",
   "metadata": {},
   "outputs": [],
   "source": [
    "#Que 14"
   ]
  },
  {
   "cell_type": "code",
   "execution_count": null,
   "id": "ef34a835",
   "metadata": {},
   "outputs": [],
   "source": [
    "#Que 15\n",
    "data='The quick brown fox jumps over the lazy dog.'\n",
    "x=['fox','dog','horse']\n",
    "y=r\"[x]\"\n",
    "\n",
    "Ex_out=re.search(y,data)\n",
    "Ex_out"
   ]
  },
  {
   "cell_type": "code",
   "execution_count": null,
   "id": "3a5939fe",
   "metadata": {},
   "outputs": [],
   "source": [
    "#Que 16\n",
    "data='The quick brown fox jumps over the lazy dog.'\n",
    "x='\\Wfox\\W'\n",
    "y=r\"[x]\"\n",
    "\n",
    "Ex_out=re.search(y,data)\n",
    "Ex_out"
   ]
  },
  {
   "cell_type": "code",
   "execution_count": null,
   "id": "b2c3ae4f",
   "metadata": {},
   "outputs": [],
   "source": [
    "#Que 17\n",
    "pattern='exercises'\n",
    "text='Python exercises, PHP exercises, C# exercises'\n",
    "\n",
    "search=re.findall(pattern,text)\n",
    "search"
   ]
  },
  {
   "cell_type": "code",
   "execution_count": null,
   "id": "52a81231",
   "metadata": {},
   "outputs": [],
   "source": [
    "#Que 18\n",
    "pattern='exercises'\n",
    "text='Python exercises, PHP exercises, C# exercises'\n",
    "\n",
    "search=re.finditer(pattern,text)\n",
    "for match in search:\n",
    "    print(match)\n",
    "    \n",
    "    print(match.group())\n",
    "search"
   ]
  },
  {
   "cell_type": "code",
   "execution_count": null,
   "id": "490a33bf",
   "metadata": {},
   "outputs": [],
   "source": [
    "#Que 19\n",
    "x=r'(\\d{4})-(\\d{1,2})-(\\d{1,2})'\n",
    "y='\\\\3-\\\\2-\\\\1'\n",
    "data=\"2020-10-11\"\n",
    "\n",
    "Output=re.sub(x,y,data)\n",
    "Output"
   ]
  },
  {
   "cell_type": "code",
   "execution_count": null,
   "id": "5205d3d4",
   "metadata": {},
   "outputs": [],
   "source": [
    "#Que 20\n",
    "text=\"01.12 0132.123 2.31875 145.8 3.01 27.25 0.25\"\n",
    "pattern=r'\\b\\d+\\.\\d{1,2}\\b'\n",
    "compilee=re.compile(pattern)\n",
    "\n",
    "Exp_out=compilee.findall(text)\n",
    "Exp_out"
   ]
  },
  {
   "cell_type": "code",
   "execution_count": null,
   "id": "9bc3464d",
   "metadata": {},
   "outputs": [],
   "source": [
    "#Que 21\n",
    "text= \"Stated in 1742 by Christian Goldbach, it remains unproven despite considerable effort.\"\n",
    "\n",
    "for i in re.finditer(\"\\d+\", text):\n",
    "    print(\"number:\",i.group(0),\"position:\",i.start())\n",
    "   "
   ]
  },
  {
   "cell_type": "code",
   "execution_count": null,
   "id": "abc147ac",
   "metadata": {},
   "outputs": [],
   "source": [
    "#Que 22\n",
    "pattern=\"\\d+\"\n",
    "text='My marks in each semester are: 947, 896, 926, 524, 734, 950, 642'\n",
    "\n",
    "numbers=re.findall(pattern,text)\n",
    "\n",
    "\n",
    "largest_num=max(numbers)\n",
    "largest_num"
   ]
  },
  {
   "cell_type": "code",
   "execution_count": null,
   "id": "98248d19",
   "metadata": {},
   "outputs": [],
   "source": [
    "#Que 23\n",
    "pattern=r'([A-Z][a-z]+)'\n",
    "text=\"RegularExpressionIsAnImportantTopicInPython\"\n",
    "x=r' \\1'\n",
    "\n",
    "Exp_out=re.sub(pattern,x,text)\n",
    "Exp_out"
   ]
  },
  {
   "cell_type": "code",
   "execution_count": null,
   "id": "f2ba8e22",
   "metadata": {},
   "outputs": [],
   "source": [
    "#Que 24\n",
    "pattern=r'[A-Z]+[a-z]+$'\n",
    "text=\"The\"\n",
    "\n",
    "output=re.search(pattern,text)\n",
    "print(output)"
   ]
  },
  {
   "cell_type": "code",
   "execution_count": null,
   "id": "80ca4a7a",
   "metadata": {},
   "outputs": [],
   "source": [
    "#Que 25\n",
    "pattern = r'\\b(\\w+)(\\s+\\1\\b)+'\n",
    "text=\"Hello hello world world\"\n",
    "x=r'\\1'\n",
    "\n",
    "Output= re.sub(pattern,x, text)\n",
    "Output"
   ]
  },
  {
   "cell_type": "code",
   "execution_count": null,
   "id": "29eba12b",
   "metadata": {},
   "outputs": [],
   "source": [
    "#Que 26\n",
    "text=\"Meet36\"\n",
    "pattern=r'[a-zA-z0-9]$'\n",
    "compilee=re.compile(pattern)\n",
    "\n",
    "result=compilee.search(text)\n",
    "result\n"
   ]
  },
  {
   "cell_type": "code",
   "execution_count": null,
   "id": "88202e5b",
   "metadata": {},
   "outputs": [],
   "source": [
    "#Que 27\n",
    "text=\"\"\"RT @kapil_kausik: #Doltiwal I mean #xyzabc is \"hurt\" by #Demonetization as the same has rendered USELESS <ed><U+00A0><U+00BD><ed><U+00B1><U+0089> \"acquired funds\" No wo\"\"\"\n",
    "pattern=r'#\\w+'\n",
    "\n",
    "matches=re.finditer(pattern,text)\n",
    "\n",
    "Exp_out = []\n",
    "for match in matches:\n",
    "    Exp_out.append(match.group())\n",
    "        \n",
    "Exp_out\n"
   ]
  },
  {
   "cell_type": "code",
   "execution_count": null,
   "id": "4c75f1ee",
   "metadata": {},
   "outputs": [],
   "source": [
    "#Que 28\n",
    "text=\"@Jags123456 Bharat band on 28??<ed><U+00A0><U+00BD><ed><U+00B8><U+0082>Those who  are protesting #demonetization  are all different party leaders\"\n",
    "pattern=r'<U\\+\\w+>'\n",
    "\n",
    "Exp_out=re.sub(pattern,'',text)\n",
    "Exp_out\n"
   ]
  },
  {
   "cell_type": "code",
   "execution_count": null,
   "id": "c1dcf924",
   "metadata": {},
   "outputs": [],
   "source": [
    "#Que 29\n"
   ]
  },
  {
   "cell_type": "code",
   "execution_count": null,
   "id": "af1c8e80",
   "metadata": {},
   "outputs": [],
   "source": [
    "#Que 30\n",
    "text=\"The following example creates an ArrayList with a capacity of 50 elements. 4 elements are then added to the ArrayList and the ArrayList is trimmed accordingly.\"\n",
    "pattern=r'\\b\\w{2,4}\\b'\n",
    "compilee=re.compile(pattern)\n",
    "\n",
    "Exp_out=compilee.sub('',text)\n",
    "Exp_out\n"
   ]
  },
  {
   "cell_type": "code",
   "execution_count": null,
   "id": "16caf432",
   "metadata": {},
   "outputs": [],
   "source": []
  },
  {
   "cell_type": "code",
   "execution_count": null,
   "id": "60799b30",
   "metadata": {},
   "outputs": [],
   "source": []
  }
 ],
 "metadata": {
  "kernelspec": {
   "display_name": "Python 3 (ipykernel)",
   "language": "python",
   "name": "python3"
  },
  "language_info": {
   "codemirror_mode": {
    "name": "ipython",
    "version": 3
   },
   "file_extension": ".py",
   "mimetype": "text/x-python",
   "name": "python",
   "nbconvert_exporter": "python",
   "pygments_lexer": "ipython3",
   "version": "3.10.9"
  }
 },
 "nbformat": 4,
 "nbformat_minor": 5
}
